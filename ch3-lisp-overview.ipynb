{
 "cells": [
  {
   "attachments": {},
   "cell_type": "markdown",
   "metadata": {},
   "source": [
    "# Chapter 3 Lisp Overview"
   ]
  },
  {
   "cell_type": "code",
   "execution_count": 1,
   "metadata": {
    "vscode": {
     "languageId": "commonlisp"
    }
   },
   "outputs": [
    {
     "data": {
      "text/plain": [
       "42"
      ]
     },
     "execution_count": 1,
     "metadata": {},
     "output_type": "execute_result"
    }
   ],
   "source": [
    ";; exercise 3.1\n",
    "((lambda (x) \n",
    "  ((lambda (y) (+ y x)) \n",
    "   (* x x)))  ; y = x * x\n",
    " 6) ; x=6"
   ]
  },
  {
   "cell_type": "code",
   "execution_count": 2,
   "metadata": {
    "vscode": {
     "languageId": "commonlisp"
    }
   },
   "outputs": [
    {
     "data": {
      "text/plain": [
       "LENGTH1"
      ]
     },
     "execution_count": 2,
     "metadata": {},
     "output_type": "execute_result"
    },
    {
     "data": {
      "text/plain": [
       "3"
      ]
     },
     "execution_count": 2,
     "metadata": {},
     "output_type": "execute_result"
    }
   ],
   "source": [
    ";; iterations - dolist\n",
    "(defun length1 (list)\n",
    "    (let ((len 0))\n",
    "        ;; NOTE: the assignment element (_) is not used\n",
    "        (dolist (_ list) (incf len)) \n",
    "        len))\n",
    "\n",
    "(length1 '(1 2 3))"
   ]
  },
  {
   "cell_type": "code",
   "execution_count": 3,
   "metadata": {
    "vscode": {
     "languageId": "commonlisp"
    }
   },
   "outputs": [
    {
     "data": {
      "text/plain": [
       "LENGTH2"
      ]
     },
     "execution_count": 3,
     "metadata": {},
     "output_type": "execute_result"
    },
    {
     "data": {
      "text/plain": [
       "4"
      ]
     },
     "execution_count": 3,
     "metadata": {},
     "output_type": "execute_result"
    },
    {
     "name": "stdout",
     "output_type": "stream",
     "text": [
      "SB-INT:SIMPLE-STYLE-WARNING: The variable _ is defined but never used.\n"
     ]
    }
   ],
   "source": [
    ";; iterations - mapc\n",
    "(defun length2 (list)\n",
    "    (let ((len 0))\n",
    "        (mapc #'(lambda (_) (incf len)) list)\n",
    "        len))\n",
    "\n",
    "(length2 '(a b c d))"
   ]
  },
  {
   "cell_type": "code",
   "execution_count": 4,
   "metadata": {
    "vscode": {
     "languageId": "commonlisp"
    }
   },
   "outputs": [
    {
     "data": {
      "text/plain": [
       "LENGTH3"
      ]
     },
     "execution_count": 4,
     "metadata": {},
     "output_type": "execute_result"
    },
    {
     "data": {
      "text/plain": [
       "4"
      ]
     },
     "execution_count": 4,
     "metadata": {},
     "output_type": "execute_result"
    }
   ],
   "source": [
    ";; iterations - do\n",
    "(defun length3 (list)\n",
    "    (do \n",
    "        ;; iteration forms\n",
    "        ((len 0 (+ len 1))\n",
    "         (l list (rest l)))\n",
    "\n",
    "        ;; exit form\n",
    "        ((null l) len)\n",
    "        \n",
    "        )) \n",
    "\n",
    "(length3 '(a b c d))"
   ]
  },
  {
   "cell_type": "code",
   "execution_count": 5,
   "metadata": {
    "vscode": {
     "languageId": "commonlisp"
    }
   },
   "outputs": [
    {
     "data": {
      "text/plain": [
       "LENGTH4"
      ]
     },
     "execution_count": 5,
     "metadata": {},
     "output_type": "execute_result"
    },
    {
     "data": {
      "text/plain": [
       "4"
      ]
     },
     "execution_count": 5,
     "metadata": {},
     "output_type": "execute_result"
    },
    {
     "data": {
      "text/plain": [
       "LENGTH5"
      ]
     },
     "execution_count": 5,
     "metadata": {},
     "output_type": "execute_result"
    },
    {
     "data": {
      "text/plain": [
       "4"
      ]
     },
     "execution_count": 5,
     "metadata": {},
     "output_type": "execute_result"
    },
    {
     "data": {
      "text/plain": [
       "LENGTH6"
      ]
     },
     "execution_count": 5,
     "metadata": {},
     "output_type": "execute_result"
    },
    {
     "data": {
      "text/plain": [
       "4"
      ]
     },
     "execution_count": 5,
     "metadata": {},
     "output_type": "execute_result"
    }
   ],
   "source": [
    ";; iteratinos - loop\n",
    ";; this is the most complex one\n",
    "\n",
    "(defun length4 (list)\n",
    "    (loop for element in list\n",
    "        count t))\n",
    "\n",
    "(length4 '(a b c d))\n",
    "\n",
    "(defun length5 (list)\n",
    "    (loop for element in list\n",
    "        summing 1))\n",
    "\n",
    "(length5 '(a b c d))\n",
    "\n",
    ";; What this kind of expression is needed?\n",
    "(defun length6 (list)\n",
    "    (loop with len = 0\n",
    "        until (null list)\n",
    "        for element = (pop list)\n",
    "        do (incf len)\n",
    "        finally (return len)))\n",
    "\n",
    "(length6 '(a b c d))"
   ]
  },
  {
   "cell_type": "code",
   "execution_count": 6,
   "metadata": {
    "vscode": {
     "languageId": "commonlisp"
    }
   },
   "outputs": [
    {
     "data": {
      "text/plain": [
       "LENGTH7"
      ]
     },
     "execution_count": 6,
     "metadata": {},
     "output_type": "execute_result"
    },
    {
     "data": {
      "text/plain": [
       "TRUE"
      ]
     },
     "execution_count": 6,
     "metadata": {},
     "output_type": "execute_result"
    },
    {
     "data": {
      "text/plain": [
       "4"
      ]
     },
     "execution_count": 6,
     "metadata": {},
     "output_type": "execute_result"
    },
    {
     "data": {
      "text/plain": [
       "LENGTH8"
      ]
     },
     "execution_count": 6,
     "metadata": {},
     "output_type": "execute_result"
    },
    {
     "data": {
      "text/plain": [
       "4"
      ]
     },
     "execution_count": 6,
     "metadata": {},
     "output_type": "execute_result"
    },
    {
     "name": "stdout",
     "output_type": "stream",
     "text": [
      "SB-INT:SIMPLE-STYLE-WARNING: undefined function: COMMON-LISP-USER::TRUE\n",
      "SB-INT:SIMPLE-STYLE-WARNING: The variable X is defined but never used.\n"
     ]
    }
   ],
   "source": [
    "(defun length7 (list)\n",
    "    (count-if #'true list))\n",
    "(defun true (x) t)\n",
    "\n",
    "(length7 '(a b c d))\n",
    "\n",
    "(defun length8 (list)\n",
    "    (+ 1 (position-if #'true list :from-end t)))\n",
    "\n",
    "(length8 '(a b c d))"
   ]
  },
  {
   "cell_type": "code",
   "execution_count": 7,
   "metadata": {
    "vscode": {
     "languageId": "commonlisp"
    }
   },
   "outputs": [
    {
     "data": {
      "text/plain": [
       "(2 3 2 0 -1)"
      ]
     },
     "execution_count": 7,
     "metadata": {},
     "output_type": "execute_result"
    },
    {
     "data": {
      "text/plain": [
       "(2 3 2 0)"
      ]
     },
     "execution_count": 7,
     "metadata": {},
     "output_type": "execute_result"
    },
    {
     "data": {
      "text/plain": [
       "(1 1 0 -1)"
      ]
     },
     "execution_count": 7,
     "metadata": {},
     "output_type": "execute_result"
    },
    {
     "data": {
      "text/plain": [
       "(1 2 3 2 0 -1)"
      ]
     },
     "execution_count": 7,
     "metadata": {},
     "output_type": "execute_result"
    },
    {
     "data": {
      "text/plain": [
       "(2 2 0)"
      ]
     },
     "execution_count": 7,
     "metadata": {},
     "output_type": "execute_result"
    },
    {
     "data": {
      "text/plain": [
       "1"
      ]
     },
     "execution_count": 7,
     "metadata": {},
     "output_type": "execute_result"
    }
   ],
   "source": [
    ";; function accept keywords or derived version with predicate\n",
    ";; (describe 'remove) \n",
    "(remove 1 '(1 2 3 2 1 0 -1))\n",
    "(remove 1 '(1 2 3 2 1 0 -1) :key #'abs)\n",
    "(remove 1 '(1 2 3 2 1 0 -1) :test #'<)\n",
    "(remove 1 '(1 2 3 2 1 0 -1) :start 4)\n",
    "\n",
    "(remove-if #'oddp '(1 2 3 2 1 0 -1))\n",
    "(find-if #'oddp '(1 2 3 2 1 0 -1))"
   ]
  },
  {
   "cell_type": "code",
   "execution_count": 8,
   "metadata": {
    "vscode": {
     "languageId": "commonlisp"
    }
   },
   "outputs": [
    {
     "data": {
      "text/plain": [
       "LENGTH9"
      ]
     },
     "execution_count": 8,
     "metadata": {},
     "output_type": "execute_result"
    },
    {
     "data": {
      "text/plain": [
       "4"
      ]
     },
     "execution_count": 8,
     "metadata": {},
     "output_type": "execute_result"
    }
   ],
   "source": [
    ";; loop as recursion\n",
    "(defun length9 (list)\n",
    "    (if (null list) 0 (+ 1 (length9 (rest list)))))\n",
    "\n",
    "(length9 '(a b c d))"
   ]
  },
  {
   "cell_type": "code",
   "execution_count": 9,
   "metadata": {
    "vscode": {
     "languageId": "commonlisp"
    }
   },
   "outputs": [
    {
     "data": {
      "text/plain": [
       "LENGTH10"
      ]
     },
     "execution_count": 9,
     "metadata": {},
     "output_type": "execute_result"
    },
    {
     "data": {
      "text/plain": [
       "LENGTH10-AUX"
      ]
     },
     "execution_count": 9,
     "metadata": {},
     "output_type": "execute_result"
    },
    {
     "data": {
      "text/plain": [
       "4"
      ]
     },
     "execution_count": 9,
     "metadata": {},
     "output_type": "execute_result"
    },
    {
     "name": "stdout",
     "output_type": "stream",
     "text": [
      "SB-INT:SIMPLE-STYLE-WARNING: undefined function: COMMON-LISP-USER::LENGTH10-AUX\n"
     ]
    }
   ],
   "source": [
    ";; tail recursion\n",
    "(defun length10 (list)\n",
    "    (length10-aux list 0))\n",
    "(defun length10-aux (sublist len-so-far)\n",
    "    (if (null sublist) len-so-far\n",
    "        (length10-aux (rest sublist) (+ 1 len-so-far))))\n",
    "\n",
    "(length10 '(a b c d))"
   ]
  },
  {
   "cell_type": "code",
   "execution_count": 10,
   "metadata": {
    "vscode": {
     "languageId": "commonlisp"
    }
   },
   "outputs": [
    {
     "data": {
      "text/plain": [
       "LENGTH11"
      ]
     },
     "execution_count": 10,
     "metadata": {},
     "output_type": "execute_result"
    },
    {
     "data": {
      "text/plain": [
       "4"
      ]
     },
     "execution_count": 10,
     "metadata": {},
     "output_type": "execute_result"
    }
   ],
   "source": [
    ";; optional parameter\n",
    "(defun length11 (list &optional (len-so-far 0))\n",
    "    (if (null list) len-so-far (length11 (rest list) (+ 1 len-so-far))))\n",
    "\n",
    "(length11 '(a b c d))"
   ]
  },
  {
   "cell_type": "code",
   "execution_count": 11,
   "metadata": {
    "vscode": {
     "languageId": "commonlisp"
    }
   },
   "outputs": [
    {
     "data": {
      "text/plain": [
       "LENGTH12"
      ]
     },
     "execution_count": 11,
     "metadata": {},
     "output_type": "execute_result"
    },
    {
     "data": {
      "text/plain": [
       "4"
      ]
     },
     "execution_count": 11,
     "metadata": {},
     "output_type": "execute_result"
    }
   ],
   "source": [
    ";; defining local function\n",
    "(defun length12 (list)\n",
    "    (labels ((length13 (sublist len-so-far)\n",
    "                (if (null sublist) len-so-far\n",
    "                    (length13 (rest sublist) (+ 1 len-so-far)))))\n",
    "\n",
    "        (length13 list 0)))\n",
    "\n",
    "(length12 '(a b c d))"
   ]
  },
  {
   "cell_type": "code",
   "execution_count": 12,
   "metadata": {
    "vscode": {
     "languageId": "commonlisp"
    }
   },
   "outputs": [
    {
     "data": {
      "text/plain": [
       "WHILE"
      ]
     },
     "execution_count": 12,
     "metadata": {},
     "output_type": "execute_result"
    },
    {
     "data": {
      "text/plain": [
       "(LOOP (UNLESS (< I 10) (RETURN NIL))\n",
       "      (SETF I (+ I 1)))"
      ]
     },
     "execution_count": 12,
     "metadata": {},
     "output_type": "execute_result"
    },
    {
     "data": {
      "text/plain": [
       "T"
      ]
     },
     "execution_count": 12,
     "metadata": {},
     "output_type": "execute_result"
    }
   ],
   "source": [
    "; macro and back quotation\n",
    "(defmacro while (test &rest body)\n",
    "\"Repeat body while test is true.\"\n",
    "    `(loop (unless ,test (return nil))\n",
    "    ,@body))\n",
    "\n",
    "(macroexpand-1 '(while (< i 10) (setf i (+ i 1))))"
   ]
  },
  {
   "cell_type": "markdown",
   "metadata": {},
   "source": [
    "## Functions on list"
   ]
  },
  {
   "cell_type": "code",
   "execution_count": 13,
   "metadata": {
    "vscode": {
     "languageId": "commonlisp"
    }
   },
   "outputs": [
    {
     "data": {
      "text/plain": [
       "PRINT-DOT"
      ]
     },
     "execution_count": 13,
     "metadata": {},
     "output_type": "execute_result"
    },
    {
     "data": {
      "text/plain": [
       "PR-REST"
      ]
     },
     "execution_count": 13,
     "metadata": {},
     "output_type": "execute_result"
    },
    {
     "data": {
      "text/plain": [
       "\")\""
      ]
     },
     "execution_count": 13,
     "metadata": {},
     "output_type": "execute_result"
    },
    {
     "data": {
      "text/plain": [
       "\")\""
      ]
     },
     "execution_count": 13,
     "metadata": {},
     "output_type": "execute_result"
    },
    {
     "name": "stdout",
     "output_type": "stream",
     "text": [
      "SB-INT:SIMPLE-STYLE-WARNING: undefined function: COMMON-LISP-USER::PR-REST\n",
      "(A . (B . nil))(DEFUN . (PRINT-DOT . ((EXPR . nil) . ((PROG . ((PRINC . ((FIRST . (EXPR . nil)) . nil)) . ((PRINC . (. . nil)) . ((PRINT-DOT . ((REST . (EXPR . nil)) . nil)) . nil)))) . nil))))"
     ]
    }
   ],
   "source": [
    ";; exercise 3.3, print dotted notation of list\n",
    "(defun print-dot (expr)\n",
    "        (cond \n",
    "            ((null expr) (princ \"nil\"))\n",
    "            ((consp expr) \n",
    "                (princ \"(\")\n",
    "                (print-dot (first expr))\n",
    "                (pr-rest (rest expr))\n",
    "                (princ \")\"))\n",
    "            (t (princ expr))))\n",
    "\n",
    ";; Think about two step recursion\n",
    "(defun pr-rest (x)\n",
    "    (princ \" . \")\n",
    "    (print-dot x))\n",
    "\n",
    "(print-dot '(a b))\n",
    "(print-dot '(defun print-dot (expr) (prog (princ (first expr)) (princ \".\") (print-dot (rest expr)))))"
   ]
  },
  {
   "cell_type": "code",
   "execution_count": 14,
   "metadata": {
    "vscode": {
     "languageId": "commonlisp"
    }
   },
   "outputs": [
    {
     "data": {
      "text/plain": [
       "PR-REST"
      ]
     },
     "execution_count": 14,
     "metadata": {},
     "output_type": "execute_result"
    },
    {
     "data": {
      "text/plain": [
       "\")\""
      ]
     },
     "execution_count": 14,
     "metadata": {},
     "output_type": "execute_result"
    },
    {
     "data": {
      "text/plain": [
       "\")\""
      ]
     },
     "execution_count": 14,
     "metadata": {},
     "output_type": "execute_result"
    },
    {
     "data": {
      "text/plain": [
       "\")\""
      ]
     },
     "execution_count": 14,
     "metadata": {},
     "output_type": "execute_result"
    },
    {
     "data": {
      "text/plain": [
       "(DEFUN PRINT-DOT (EXPR)\n",
       "  (PROG (PRINC (FIRST EXPR)) (PRINC \".\") (PRINT-DOT (REST EXPR))))"
      ]
     },
     "execution_count": 14,
     "metadata": {},
     "output_type": "execute_result"
    },
    {
     "name": "stdout",
     "output_type": "stream",
     "text": [
      "SB-KERNEL:REDEFINITION-WITH-DEFUN: redefining COMMON-LISP-USER::PR-REST in DEFUN\n",
      "(A 1)(A 1 . 2)(DEFUN PRINT-DOT (EXPR) (PROG (PRINC (FIRST EXPR)) (PRINC .) (PRINT-DOT (REST EXPR))))\n",
      "(DEFUN PRINT-DOT (EXPR)\n",
      "  (PROG (PRINC (FIRST EXPR)) (PRINC \".\") (PRINT-DOT (REST EXPR)))) "
     ]
    }
   ],
   "source": [
    ";; exercise 3.4 similar to print, reuse the same print above\n",
    ";; NOTE: how to reason on two step recursion?\n",
    "(defun pr-rest (x)\n",
    "    (cond ((null x))\n",
    "          ((atom x) (princ \" . \") (princ x))\n",
    "          (t (princ \" \") (print-dot (first x)) (pr-rest (rest x)))))\n",
    "\n",
    "; TODO: detect the last list is cons or not\n",
    "(print-dot (cons 'a (cons 1 nil)))\n",
    "(print-dot (cons 'a (cons 1 2)))\n",
    "(print-dot '(defun print-dot (expr) (prog (princ (first expr)) (princ \".\") (print-dot (rest expr)))))\n",
    "(print '(defun print-dot (expr) (prog (princ (first expr)) (princ \".\") (print-dot (rest expr)))))"
   ]
  },
  {
   "cell_type": "code",
   "execution_count": 15,
   "metadata": {
    "vscode": {
     "languageId": "commonlisp"
    }
   },
   "outputs": [
    {
     "data": {
      "text/plain": [
       "EQUALITY"
      ]
     },
     "execution_count": 15,
     "metadata": {},
     "output_type": "execute_result"
    },
    {
     "data": {
      "text/plain": [
       "X"
      ]
     },
     "execution_count": 15,
     "metadata": {},
     "output_type": "execute_result"
    },
    {
     "data": {
      "text/plain": [
       "OBJ1"
      ]
     },
     "execution_count": 15,
     "metadata": {},
     "output_type": "execute_result"
    },
    {
     "data": {
      "text/plain": [
       "OBJ2"
      ]
     },
     "execution_count": 15,
     "metadata": {},
     "output_type": "execute_result"
    },
    {
     "data": {
      "text/plain": [
       "((NIL NIL NIL NIL NIL NIL NIL) (NIL NIL NIL NIL NIL NIL NIL)\n",
       " (NIL NIL NIL NIL NIL NIL NIL) (NIL NIL NIL NIL NIL NIL NIL))"
      ]
     },
     "execution_count": 15,
     "metadata": {},
     "output_type": "execute_result"
    },
    {
     "name": "stdout",
     "output_type": "stream",
     "text": [
      "\n",
      "EQ(X, X) = T \n",
      "EQ(0, 0) = T \n",
      "EQ((X), (X)) = NIL \n",
      "EQ(\"xy\", \"xy\") = NIL \n",
      "EQ(\"Xy\", \"xY\") = NIL \n",
      "EQ(0, 0.0) = NIL \n",
      "EQ(0, 1) = NIL \n",
      "\n",
      "EQL(X, X) = T \n",
      "EQL(0, 0) = T \n",
      "EQL((X), (X)) = NIL \n",
      "EQL(\"xy\", \"xy\") = NIL \n",
      "EQL(\"Xy\", \"xY\") = NIL \n",
      "EQL(0, 0.0) = NIL \n",
      "EQL(0, 1) = NIL \n",
      "\n",
      "EQUAL(X, X) = T \n",
      "EQUAL(0, 0) = T \n",
      "EQUAL((X), (X)) = T \n",
      "EQUAL(\"xy\", \"xy\") = T \n",
      "EQUAL(\"Xy\", \"xY\") = NIL \n",
      "EQUAL(0, 0.0) = NIL \n",
      "EQUAL(0, 1) = NIL \n",
      "\n",
      "EQUALP(X, X) = T \n",
      "EQUALP(0, 0) = T \n",
      "EQUALP((X), (X)) = T \n",
      "EQUALP(\"xy\", \"xy\") = T \n",
      "EQUALP(\"Xy\", \"xY\") = T \n",
      "EQUALP(0, 0.0) = T \n",
      "EQUALP(0, 1) = NIL \n"
     ]
    }
   ],
   "source": [
    ";; 3.5 equality\n",
    "(defvar equality '(eq eql equal equalp))  ;  = tree-equal char-equal string-equal\n",
    "(defvar x 42)\n",
    "(defvar obj1 '(x 0 (x) \"xy\" \"Xy\" 0   0))\n",
    "(defvar obj2 '(x 0 (x) \"xy\" \"xY\" 0.0 1))\n",
    "\n",
    "(mapcar #'(lambda (eq_fn) \n",
    "    (format t \"~%\")\n",
    "    (mapcar #'(lambda (x y) (format t \"~a(~s, ~s) = ~b ~%\" eq_fn x y (funcall eq_fn x y)))\n",
    "        obj1 obj2)\n",
    ") equality)"
   ]
  },
  {
   "cell_type": "code",
   "execution_count": 16,
   "metadata": {
    "vscode": {
     "languageId": "commonlisp"
    }
   },
   "outputs": [
    {
     "data": {
      "text/plain": [
       "STATE-TABLE"
      ]
     },
     "execution_count": 16,
     "metadata": {},
     "output_type": "execute_result"
    },
    {
     "data": {
      "text/plain": [
       "(AL . ALABAMA)"
      ]
     },
     "execution_count": 16,
     "metadata": {},
     "output_type": "execute_result"
    },
    {
     "data": {
      "text/plain": [
       "(AK . ALASKA)"
      ]
     },
     "execution_count": 16,
     "metadata": {},
     "output_type": "execute_result"
    }
   ],
   "source": [
    ";; 3.6 tables\n",
    ";; 3.6.1 associate list, use pair to form linked list, ((k_1 . v_1) (k_2 . v_2) ... (k_n . v_n))\n",
    ";; O(n)\n",
    "(defvar state-table\n",
    "    '((AL . Alabama) (AK . Alaska) (AZ . Arizona) (AR . Arkansas)))\n",
    "(assoc 'AL state-table)\n",
    "(rassoc 'Alaska state-table)"
   ]
  },
  {
   "cell_type": "code",
   "execution_count": 17,
   "metadata": {
    "vscode": {
     "languageId": "commonlisp"
    }
   },
   "outputs": [
    {
     "data": {
      "text/plain": [
       "TABLE"
      ]
     },
     "execution_count": 17,
     "metadata": {},
     "output_type": "execute_result"
    },
    {
     "data": {
      "text/plain": [
       "ALABAMA"
      ]
     },
     "execution_count": 17,
     "metadata": {},
     "output_type": "execute_result"
    },
    {
     "data": {
      "text/plain": [
       "ALASKA"
      ]
     },
     "execution_count": 17,
     "metadata": {},
     "output_type": "execute_result"
    },
    {
     "data": {
      "text/plain": [
       "ARIZONA"
      ]
     },
     "execution_count": 17,
     "metadata": {},
     "output_type": "execute_result"
    },
    {
     "data": {
      "text/plain": [
       "ARKANSAS"
      ]
     },
     "execution_count": 17,
     "metadata": {},
     "output_type": "execute_result"
    },
    {
     "data": {
      "text/plain": [
       "ARKANSAS"
      ]
     },
     "execution_count": 17,
     "metadata": {},
     "output_type": "execute_result"
    },
    {
     "data": {
      "text/plain": [
       "T"
      ]
     },
     "execution_count": 17,
     "metadata": {},
     "output_type": "execute_result"
    },
    {
     "data": {
      "text/plain": [
       "T"
      ]
     },
     "execution_count": 17,
     "metadata": {},
     "output_type": "execute_result"
    },
    {
     "data": {
      "text/plain": [
       "NIL"
      ]
     },
     "execution_count": 17,
     "metadata": {},
     "output_type": "execute_result"
    },
    {
     "data": {
      "text/plain": [
       "NIL"
      ]
     },
     "execution_count": 17,
     "metadata": {},
     "output_type": "execute_result"
    },
    {
     "data": {
      "text/plain": [
       "#<HASH-TABLE :TEST EQL :COUNT 0 {10036019B3}>"
      ]
     },
     "execution_count": 17,
     "metadata": {},
     "output_type": "execute_result"
    },
    {
     "data": {
      "text/plain": [
       "NIL"
      ]
     },
     "execution_count": 17,
     "metadata": {},
     "output_type": "execute_result"
    },
    {
     "data": {
      "text/plain": [
       "NIL"
      ]
     },
     "execution_count": 17,
     "metadata": {},
     "output_type": "execute_result"
    }
   ],
   "source": [
    ";; 3.6.2 hash table\n",
    "(defvar table (make-hash-table))\n",
    "(setf (gethash 'AL table) 'Alabama)\n",
    "(setf (gethash 'AK table) 'Alaska)\n",
    "(setf (gethash 'AZ table) 'Arizona)\n",
    "(setf (gethash 'AR table) 'Arkansas)\n",
    "\n",
    "(gethash 'AR table)\n",
    "\n",
    ";; remhash remove a key\n",
    "(remhash 'AR table)\n",
    "(gethash 'AR table)\n",
    "\n",
    ";; clrhash removes all pairs\n",
    "(clrhash table)\n",
    "(gethash 'AZ table)"
   ]
  },
  {
   "cell_type": "code",
   "execution_count": 18,
   "metadata": {
    "vscode": {
     "languageId": "commonlisp"
    }
   },
   "outputs": [
    {
     "data": {
      "text/plain": [
       "ALABAMA"
      ]
     },
     "execution_count": 18,
     "metadata": {},
     "output_type": "execute_result"
    },
    {
     "data": {
      "text/plain": [
       "ALASKA"
      ]
     },
     "execution_count": 18,
     "metadata": {},
     "output_type": "execute_result"
    },
    {
     "data": {
      "text/plain": [
       "ARIZONA"
      ]
     },
     "execution_count": 18,
     "metadata": {},
     "output_type": "execute_result"
    },
    {
     "data": {
      "text/plain": [
       "ARKANSAS"
      ]
     },
     "execution_count": 18,
     "metadata": {},
     "output_type": "execute_result"
    },
    {
     "data": {
      "text/plain": [
       "ARKANSAS"
      ]
     },
     "execution_count": 18,
     "metadata": {},
     "output_type": "execute_result"
    },
    {
     "data": {
      "text/plain": [
       "(STATE ARKANSAS)"
      ]
     },
     "execution_count": 18,
     "metadata": {},
     "output_type": "execute_result"
    }
   ],
   "source": [
    ";; 3.6.3 property list: (k_1  v_1 k_2 v_2 ... k_n v_n)\n",
    ";; every symbol already has plist\n",
    "(setf (get 'AL 'state) 'Alabama)\n",
    "(setf (get 'AK 'state) 'Alaska)\n",
    "(setf (get 'AZ 'state) 'Arizona)\n",
    "(setf (get 'AR 'state) 'Arkansas)\n",
    "\n",
    "(get 'AR 'state)\n",
    "(symbol-plist 'AR)"
   ]
  },
  {
   "cell_type": "code",
   "execution_count": 19,
   "metadata": {
    "vscode": {
     "languageId": "commonlisp"
    }
   },
   "outputs": [
    {
     "data": {
      "text/plain": [
       "TREE"
      ]
     },
     "execution_count": 19,
     "metadata": {},
     "output_type": "execute_result"
    },
    {
     "data": {
      "text/plain": [
       "T"
      ]
     },
     "execution_count": 19,
     "metadata": {},
     "output_type": "execute_result"
    },
    {
     "data": {
      "text/plain": [
       "(NEW (VERY NEW))"
      ]
     },
     "execution_count": 19,
     "metadata": {},
     "output_type": "execute_result"
    },
    {
     "data": {
      "text/plain": [
       "(NEW (GREATLY NEW))"
      ]
     },
     "execution_count": 19,
     "metadata": {},
     "output_type": "execute_result"
    }
   ],
   "source": [
    ";; 3.7 trees\n",
    "(defvar tree '((ab)((c))(de)))\n",
    ";; deep copy and tree equality\n",
    "(tree-equal tree (copy-tree tree))\n",
    "\n",
    ";; subst one \n",
    "(subst 'new 'old '(old (very old)))\n",
    ";; subst using a list of pairs\n",
    "(sublis '((old . new) (very . greatly))\n",
    "    '(old (very old)))"
   ]
  },
  {
   "cell_type": "code",
   "execution_count": 20,
   "metadata": {
    "vscode": {
     "languageId": "commonlisp"
    }
   },
   "outputs": [],
   "source": [
    ";; 3.10 destructive function\n",
    ";; exercise 3.5 \n",
    ";; TODO: guesser program"
   ]
  },
  {
   "cell_type": "code",
   "execution_count": 21,
   "metadata": {
    "vscode": {
     "languageId": "commonlisp"
    }
   },
   "outputs": [
    {
     "data": {
      "text/plain": [
       "SQR"
      ]
     },
     "execution_count": 21,
     "metadata": {},
     "output_type": "execute_result"
    },
    {
     "data": {
      "text/plain": [
       "EAT-PORRIDGE"
      ]
     },
     "execution_count": 21,
     "metadata": {},
     "output_type": "execute_result"
    },
    {
     "name": "stdout",
     "output_type": "stream",
     "text": [
      "SB-INT:SIMPLE-STYLE-WARNING: undefined function: (COMMON-LISP:SETF COMMON-LISP-USER::BEAR-PORRIDGE)\n",
      "SB-INT:SIMPLE-STYLE-WARNING: undefined function: COMMON-LISP-USER::BEAR-PORRIDGE\n",
      "SB-INT:SIMPLE-STYLE-WARNING: undefined function: COMMON-LISP-USER::EAT\n",
      "SB-INT:SIMPLE-STYLE-WARNING: undefined function: COMMON-LISP-USER::HOTNESS\n",
      "SB-INT:SIMPLE-STYLE-WARNING: undefined function: COMMON-LISP-USER::TEMPERATURE\n",
      "SIMPLE-WARNING: undefined variable: COMMON-LISP-USER::TOO-COLD\n",
      "SIMPLE-WARNING: undefined variable: COMMON-LISP-USER::TOO-HOT\n"
     ]
    }
   ],
   "source": [
    "\n",
    ";; 3.14 antibugging tool\n",
    "(defun sqr (x)\n",
    "    (assert (numberp x) (x))\n",
    "    (* x x))\n",
    "\n",
    "(defun eat-porridge (bear)\n",
    "    (assert (< too-cold (temperature (bear-porridge bear)) too-hot)\n",
    "            (bear (bear-porridge bear))\n",
    "            \"~a's porridge is not just right: ~a\"\n",
    "            bear (hotness (bear-porridge bear)))\n",
    "    (eat (bear-porridge bear)))"
   ]
  },
  {
   "cell_type": "code",
   "execution_count": 22,
   "metadata": {
    "vscode": {
     "languageId": "commonlisp"
    }
   },
   "outputs": [
    {
     "data": {
      "text/plain": [
       "GLOBAL-A"
      ]
     },
     "execution_count": 22,
     "metadata": {},
     "output_type": "execute_result"
    },
    {
     "data": {
      "text/plain": [
       "*B*"
      ]
     },
     "execution_count": 22,
     "metadata": {},
     "output_type": "execute_result"
    },
    {
     "data": {
      "text/plain": [
       "FN"
      ]
     },
     "execution_count": 22,
     "metadata": {},
     "output_type": "execute_result"
    },
    {
     "data": {
      "text/plain": [
       "(LOCAL-A LOCAL-B LOCAL-B GLOBAL-A LOCAL-B)"
      ]
     },
     "execution_count": 22,
     "metadata": {},
     "output_type": "execute_result"
    },
    {
     "name": "stdout",
     "output_type": "stream",
     "text": [
      "SIMPLE-WARNING: undefined variable: COMMON-LISP-USER::A\n"
     ]
    }
   ],
   "source": [
    ";; Exercise 3.6 \n",
    "(setf a 'global-a)\n",
    "(defvar *b* 'global-b)\n",
    "(defun fn () *b*)\n",
    "\n",
    "(let ((a 'local-a)\n",
    "      (*b* 'local-b))\n",
    "      (list a *b* (fn) (symbol-value 'a) (symbol-value '*b*)))\n",
    ";   my answer:      'local-a, 'local-b 'global-b, 'global-a, 'global-b\n",
    ";   correct answer: 'local-a, 'local-b 'local-b,  'global-a, 'local-b\n",
    ";\n",
    ";   Why?\n",
    ";   *b* is a declared to be dynamic scoped variable, whose value depends on the context\n",
    ";   (fn) => 'local-b\n",
    ";   (symbol-value '*b') => 'local-b"
   ]
  },
  {
   "cell_type": "code",
   "execution_count": 23,
   "metadata": {
    "vscode": {
     "languageId": "commonlisp"
    }
   },
   "outputs": [
    {
     "data": {
      "text/plain": [
       "5"
      ]
     },
     "execution_count": 23,
     "metadata": {},
     "output_type": "execute_result"
    },
    {
     "data": {
      "text/plain": [
       "0.099999905"
      ]
     },
     "execution_count": 23,
     "metadata": {},
     "output_type": "execute_result"
    },
    {
     "data": {
      "text/plain": [
       "SHOW-BOTH"
      ]
     },
     "execution_count": 23,
     "metadata": {},
     "output_type": "execute_result"
    },
    {
     "data": {
      "text/plain": [
       "NIL"
      ]
     },
     "execution_count": 23,
     "metadata": {},
     "output_type": "execute_result"
    },
    {
     "data": {
      "text/plain": [
       "1"
      ]
     },
     "execution_count": 23,
     "metadata": {},
     "output_type": "execute_result"
    },
    {
     "data": {
      "text/plain": [
       "2"
      ]
     },
     "execution_count": 23,
     "metadata": {},
     "output_type": "execute_result"
    },
    {
     "data": {
      "text/plain": [
       "3"
      ]
     },
     "execution_count": 23,
     "metadata": {},
     "output_type": "execute_result"
    },
    {
     "name": "stdout",
     "output_type": "stream",
     "text": [
      "5.1 = 5 + 0.099999905 \n"
     ]
    }
   ],
   "source": [
    "; multiple values bind\n",
    "(round 5.1)\n",
    "(defun show-both (x)\n",
    "    (multiple-value-bind (int rem)\n",
    "        (round x)\n",
    "        (format t \"~f = ~d + ~f ~%\" x int rem)))\n",
    "\n",
    "(show-both 5.1)\n",
    "\n",
    "(values 1 2 3) ;; compose multiple values returns"
   ]
  },
  {
   "cell_type": "code",
   "execution_count": 24,
   "metadata": {
    "vscode": {
     "languageId": "commonlisp"
    }
   },
   "outputs": [
    {
     "data": {
      "text/plain": [
       "PROBLEM"
      ]
     },
     "execution_count": 24,
     "metadata": {},
     "output_type": "execute_result"
    },
    {
     "data": {
      "text/plain": [
       "MAKE-QUIZ"
      ]
     },
     "execution_count": 24,
     "metadata": {},
     "output_type": "execute_result"
    },
    {
     "data": {
      "text/plain": [
       "MAKE-QUIZ"
      ]
     },
     "execution_count": 24,
     "metadata": {},
     "output_type": "execute_result"
    },
    {
     "data": {
      "text/plain": [
       "MAKE-QUIZ"
      ]
     },
     "execution_count": 24,
     "metadata": {},
     "output_type": "execute_result"
    },
    {
     "name": "stdout",
     "output_type": "stream",
     "text": [
      "SB-KERNEL:REDEFINITION-WITH-DEFUN: redefining COMMON-LISP-USER::MAKE-QUIZ in DEFUN\n",
      "SB-KERNEL:REDEFINITION-WITH-DEFUN: redefining COMMON-LISP-USER::MAKE-QUIZ in DEFUN\n"
     ]
    }
   ],
   "source": [
    ";; parameter \n",
    "(defun problem (x op y)\n",
    "    \"Ask a single math problem then check the answer\"\n",
    "    (format t \"~&How much is ~d ~a ~d? ~%\" x op y)\n",
    "    (let ((answer (read))\n",
    "            (correct-answer (funcall op x y)))\n",
    "            (if (= answer correct-answer)\n",
    "                    (format t \"Correct! The answer is ~f.\" correct-answer)\n",
    "                    (format t \"Sorry the answer is not correct, it should be ~f.\" correct-answer))))\n",
    "\n",
    "(defun make-quiz (op range n)\n",
    "    \"Ask a user a series of math problem.\"\n",
    "    (dotimes (i n)\n",
    "        (problem (random range) op (random range))))\n",
    "\n",
    "; optional position dependent parameters\n",
    "(defun make-quiz (&optional (op '+) (range 100) (n 10))\n",
    "    \"Ask a user a series of math problem.\"\n",
    "    (dotimes (i n)\n",
    "        (problem (random range) op (random range))))\n",
    "\n",
    "; optional position independent parameters\n",
    "(defun make-quiz (&key (op '+) (range 100) (n 10))\n",
    "    \"Ask a user a series of math problem.\"\n",
    "    (dotimes (i n)\n",
    "        (problem (random range) op (random range))))"
   ]
  },
  {
   "cell_type": "code",
   "execution_count": 25,
   "metadata": {
    "vscode": {
     "languageId": "commonlisp"
    }
   },
   "outputs": [
    {
     "data": {
      "text/plain": [
       "(1 2 3 4 -5 6.0)"
      ]
     },
     "execution_count": 25,
     "metadata": {},
     "output_type": "execute_result"
    },
    {
     "data": {
      "text/plain": [
       "-5"
      ]
     },
     "execution_count": 25,
     "metadata": {},
     "output_type": "execute_result"
    },
    {
     "data": {
      "text/plain": [
       "6.0"
      ]
     },
     "execution_count": 25,
     "metadata": {},
     "output_type": "execute_result"
    },
    {
     "data": {
      "text/plain": [
       "6.0"
      ]
     },
     "execution_count": 25,
     "metadata": {},
     "output_type": "execute_result"
    },
    {
     "name": "stdout",
     "output_type": "stream",
     "text": [
      "SIMPLE-WARNING: undefined variable: COMMON-LISP-USER::A\n",
      "SIMPLE-WARNING: undefined variable: COMMON-LISP-USER::A\n",
      "SIMPLE-WARNING: undefined variable: COMMON-LISP-USER::A\n",
      "SIMPLE-WARNING: undefined variable: COMMON-LISP-USER::A\n"
     ]
    }
   ],
   "source": [
    ";; using keyword with built-in functions\n",
    "(setf a '(1 2 3 4 -5 6.0))\n",
    "(find 5 a :key #'abs)\n",
    "(find 6 a :test #'equalp)\n",
    "(find 4 a :test #'<)"
   ]
  },
  {
   "cell_type": "code",
   "execution_count": 26,
   "metadata": {
    "vscode": {
     "languageId": "commonlisp"
    }
   },
   "outputs": [
    {
     "data": {
      "text/plain": [
       "NUMS"
      ]
     },
     "execution_count": 26,
     "metadata": {},
     "output_type": "execute_result"
    },
    {
     "data": {
      "text/plain": [
       "#<FUNCTION REMOVE-IF-NOT>"
      ]
     },
     "execution_count": 26,
     "metadata": {},
     "output_type": "execute_result"
    },
    {
     "data": {
      "text/plain": [
       "(1 -1 2 3)"
      ]
     },
     "execution_count": 26,
     "metadata": {},
     "output_type": "execute_result"
    },
    {
     "data": {
      "text/plain": [
       "COMPLEMENT1"
      ]
     },
     "execution_count": 26,
     "metadata": {},
     "output_type": "execute_result"
    },
    {
     "data": {
      "text/plain": [
       "T"
      ]
     },
     "execution_count": 26,
     "metadata": {},
     "output_type": "execute_result"
    },
    {
     "data": {
      "text/plain": [
       "FIND-ALL"
      ]
     },
     "execution_count": 26,
     "metadata": {},
     "output_type": "execute_result"
    },
    {
     "data": {
      "text/plain": [
       "(4 -5 6.0)"
      ]
     },
     "execution_count": 26,
     "metadata": {},
     "output_type": "execute_result"
    }
   ],
   "source": [
    ";; define new function to find all\n",
    "(defvar nums '(1 -1 2 3 4 -5 6.0))\n",
    "\n",
    ";; assign the function body to the symbol function slot\n",
    "(setf (symbol-function 'find-all-if) #'remove-if-not)\n",
    "(find-all-if (lambda (x) (< x 4)) nums :key #'abs)\n",
    "\n",
    "(defun complement1 (fn)\n",
    "    ;; TODO: whether to use #' or just lambda?\n",
    "    (lambda (&rest args) (not (apply fn args))))\n",
    "\n",
    "(apply (complement1 #'equalp) '(1 2))\n",
    "\n",
    "(defun find-all (item sequence &rest keyword-args \n",
    "                 &key (test #'eql) test-not &allow-other-keys)\n",
    "    (if test-not\n",
    "        (apply #'remove item sequence :test-not (complement1 test-not) keyword-args)\n",
    "        (apply #'remove item sequence :test (complement1 test) keyword-args)))\n",
    "\n",
    "(find-all 4 nums :test #'<= :key #'abs)"
   ]
  },
  {
   "cell_type": "code",
   "execution_count": 27,
   "metadata": {
    "vscode": {
     "languageId": "commonlisp"
    }
   },
   "outputs": [
    {
     "data": {
      "text/plain": [
       "FIND-ALL"
      ]
     },
     "execution_count": 27,
     "metadata": {},
     "output_type": "execute_result"
    },
    {
     "data": {
      "text/plain": [
       "REMOVE-PAIR"
      ]
     },
     "execution_count": 27,
     "metadata": {},
     "output_type": "execute_result"
    },
    {
     "data": {
      "text/plain": [
       "(2 'C)"
      ]
     },
     "execution_count": 27,
     "metadata": {},
     "output_type": "execute_result"
    },
    {
     "data": {
      "text/plain": [
       "(1 -1 2 3 4 1.0 1)"
      ]
     },
     "execution_count": 27,
     "metadata": {},
     "output_type": "execute_result"
    },
    {
     "data": {
      "text/plain": [
       "(1 -1 1)"
      ]
     },
     "execution_count": 27,
     "metadata": {},
     "output_type": "execute_result"
    },
    {
     "name": "stdout",
     "output_type": "stream",
     "text": [
      "SB-INT:SIMPLE-STYLE-WARNING: undefined function: COMMON-LISP-USER::REMOVE-PAIR\n",
      "SB-KERNEL:REDEFINITION-WITH-DEFUN: redefining COMMON-LISP-USER::FIND-ALL in DEFUN\n"
     ]
    }
   ],
   "source": [
    ";; exercise 3.7\n",
    ";; The keyword is evaluated using AND logic, so the leftmost value is selected\n",
    ";; Reasons:\n",
    ";; - first to evaluation\n",
    ";; - efficient to override\n",
    "\n",
    ";; exercise 3.8\n",
    ";; Remove :test and :test-not entry in `keyword-args` before passing to remove\n",
    "(defun find-all (item sequence &rest keyword-args \n",
    "                 &key (test #'eql) test-not &allow-other-keys)\n",
    "\n",
    "    (let* ((rem-keyword-args (remove-pair :test keyword-args))\n",
    "           (rem-keyword-args (remove-pair :test-not rem-keyword-args)))\n",
    "        (if test-not\n",
    "                (apply #'remove item sequence :test-not (complement1 test-not) rem-keyword-args)\n",
    "                (apply #'remove item sequence :test (complement1 test) rem-keyword-args))))\n",
    "\n",
    "(defun remove-pair (key sequence)\n",
    "    \"Remove a pair with key val in list (key1, val1, key2, val2, ... )\"\n",
    "    (cond ((null sequence) nil)\n",
    "          ((eq key (first sequence)) (remove-pair key (rest (rest sequence))))\n",
    "          (t (cons (first sequence) (cons (second sequence) (remove-pair key (rest (rest sequence))))))))\n",
    "\n",
    "(remove-pair :test '(:test 'a :test 'b 2 'c))\n",
    "\n",
    "(setf nums '(1 -1 2 3 4 1.0 1))\n",
    "(find-all 1 nums :test #'eq :key #'abs)"
   ]
  },
  {
   "cell_type": "code",
   "execution_count": 57,
   "metadata": {
    "vscode": {
     "languageId": "commonlisp"
    }
   },
   "outputs": [
    {
     "data": {
      "text/plain": [
       "LENGTH15"
      ]
     },
     "execution_count": 57,
     "metadata": {},
     "output_type": "execute_result"
    },
    {
     "data": {
      "text/plain": [
       "6"
      ]
     },
     "execution_count": 57,
     "metadata": {},
     "output_type": "execute_result"
    },
    {
     "name": "stdout",
     "output_type": "stream",
     "text": [
      "SB-INT:SIMPLE-STYLE-WARNING: The variable _ is defined but never used.\n",
      "SB-KERNEL:REDEFINITION-WITH-DEFUN: redefining COMMON-LISP-USER::LENGTH15 in DEFUN\n",
      "SIMPLE-WARNING: undefined variable: COMMON-LISP-USER::A\n"
     ]
    }
   ],
   "source": [
    ";; exercise 3.9, length using reduce\n",
    "(defun length15 (list)\n",
    "    (reduce (lambda (x _) (+ 1 x)) list :initial-value 0))\n",
    "\n",
    "(length15 a)"
   ]
  },
  {
   "cell_type": "code",
   "execution_count": 34,
   "metadata": {
    "vscode": {
     "languageId": "commonlisp"
    }
   },
   "outputs": [
    {
     "data": {
      "text/plain": [
       "300"
      ]
     },
     "execution_count": 34,
     "metadata": {},
     "output_type": "execute_result"
    },
    {
     "data": {
      "text/plain": [
       "(E F G)"
      ]
     },
     "execution_count": 34,
     "metadata": {},
     "output_type": "execute_result"
    },
    {
     "name": "stdout",
     "output_type": "stream",
     "text": [
      "SB-INT:CONSTANT-MODIFIED: Destructive function NRECONC called on constant data: (A\n",
      "                                                                                                 B\n",
      "                                                                                                 C)\n",
      "See also:\n",
      "  The ANSI Standard, Special Operator QUOTE\n",
      "  The ANSI Standard, Section 3.7.1\n",
      "(C B A E F G)(A E F G)(E F G)"
     ]
    }
   ],
   "source": [
    ";; exercise 3.10\n",
    "; (describe 'lcm)\n",
    "(lcm 20 25 30 100)\n",
    "\n",
    "; (load \"draw-cons-tree.lisp\")\n",
    "; (use-package :draw-cons-tree)\n",
    "\n",
    ";; destructive concatenation, reverse and concate in place\n",
    "; (describe 'nreconc)\n",
    ";                  -- foo\n",
    ";  --res           |       -- bar\n",
    ";  |               |       | \n",
    "; [o|o]---[o|o]---[o|o]---[o|o]---[o|o]---[o|/]\n",
    ";  |       |       |       |       |       |      \n",
    ";  C       B       A       E       F       G \n",
    "\n",
    "(let* ((foo '(a b c))\n",
    "       (bar '(e f g))\n",
    "       (res (nreconc foo bar))) \n",
    "    (princ res)\n",
    "    (princ foo)\n",
    "    (princ bar))"
   ]
  },
  {
   "cell_type": "code",
   "execution_count": 37,
   "metadata": {
    "vscode": {
     "languageId": "commonlisp"
    }
   },
   "outputs": [
    {
     "data": {
      "text/plain": [
       "((A . 1) (B . 2) (C . 3))"
      ]
     },
     "execution_count": 37,
     "metadata": {},
     "output_type": "execute_result"
    },
    {
     "data": {
      "text/plain": [
       "((D . 4) (A . 1) (B . 2) (C . 3))"
      ]
     },
     "execution_count": 37,
     "metadata": {},
     "output_type": "execute_result"
    },
    {
     "name": "stdout",
     "output_type": "stream",
     "text": [
      "SIMPLE-WARNING: undefined variable: COMMON-LISP-USER::ALIST\n",
      "SIMPLE-WARNING: undefined variable: COMMON-LISP-USER::ALIST\n"
     ]
    }
   ],
   "source": [
    ";; exercise 3.11\n",
    "(setq alist '((a . 1) (b . 2) (c . 3)))\n",
    "(acons 'd 4 alist)"
   ]
  },
  {
   "cell_type": "code",
   "execution_count": 73,
   "metadata": {
    "vscode": {
     "languageId": "commonlisp"
    }
   },
   "outputs": [
    {
     "data": {
      "text/plain": [
       "PRINT-SENTENCE"
      ]
     },
     "execution_count": 73,
     "metadata": {},
     "output_type": "execute_result"
    },
    {
     "data": {
      "text/plain": [
       "\".\""
      ]
     },
     "execution_count": 73,
     "metadata": {},
     "output_type": "execute_result"
    },
    {
     "data": {
      "text/plain": [
       "NIL"
      ]
     },
     "execution_count": 73,
     "metadata": {},
     "output_type": "execute_result"
    },
    {
     "data": {
      "text/plain": [
       "NIL"
      ]
     },
     "execution_count": 73,
     "metadata": {},
     "output_type": "execute_result"
    },
    {
     "name": "stdout",
     "output_type": "stream",
     "text": [
      "SB-KERNEL:REDEFINITION-WITH-DEFUN: redefining COMMON-LISP-USER::PRINT-SENTENCE in DEFUN\n",
      "Hello world.\n",
      "This is a test."
     ]
    }
   ],
   "source": [
    ";; exercise 3.12 sentence print\n",
    "(defun print-sentence (word-list)\n",
    "    (format t \"~a\" (string-capitalize (first word-list)))\n",
    "    (mapcar (lambda (word) (format t \" ~a\" (string-downcase word))) (rest word-list))\n",
    "    (princ \".\"))\n",
    "\n",
    "(print-sentence '(hello world))\n",
    "\n",
    "(format t \"~%\")\n",
    "(format t \"~@(~{~a~^ ~}.~)\" '(this is a test))"
   ]
  }
 ],
 "metadata": {
  "kernelspec": {
   "display_name": "Common Lisp",
   "language": "common-lisp",
   "name": "common-lisp"
  },
  "language_info": {
   "codemirror_mode": "text/x-common-lisp",
   "file_extension": ".lisp",
   "mimetype": "text/x-common-lisp",
   "name": "common-lisp",
   "pygments_lexer": "common-lisp",
   "version": "2.3.2"
  },
  "orig_nbformat": 4
 },
 "nbformat": 4,
 "nbformat_minor": 2
}
