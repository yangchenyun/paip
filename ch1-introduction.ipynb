{
 "cells": [
  {
   "cell_type": "code",
   "execution_count": 3,
   "metadata": {
    "vscode": {
     "languageId": "commonlisp"
    }
   },
   "outputs": [
    {
     "data": {
      "text/plain": [
       "4444"
      ]
     },
     "execution_count": 3,
     "metadata": {},
     "output_type": "execute_result"
    }
   ],
   "source": [
    "(- (+ 9000 900 90 9) (+ 5000 500 50 5))"
   ]
  },
  {
   "cell_type": "code",
   "execution_count": 5,
   "id": "38223784",
   "metadata": {
    "vscode": {
     "languageId": "commonlisp"
    }
   },
   "outputs": [
    {
     "data": {
      "text/plain": [
       "(PAT KIM ROBIN)"
      ]
     },
     "execution_count": 5,
     "metadata": {},
     "output_type": "execute_result"
    }
   ],
   "source": [
    ";; use quote to block an evaluation\n",
    "(append '(Pat Kim) '(Robin))"
   ]
  },
  {
   "cell_type": "code",
   "execution_count": 8,
   "id": "2c5a1cb9",
   "metadata": {
    "vscode": {
     "languageId": "commonlisp"
    }
   },
   "outputs": [
    {
     "data": {
      "text/plain": [
       "3"
      ]
     },
     "execution_count": 8,
     "metadata": {},
     "output_type": "execute_result"
    }
   ],
   "source": [
    ";; list operators \n",
    "(length (append '(Hello ) (list '(你好 hola) '(bonjour))))"
   ]
  },
  {
   "cell_type": "code",
   "execution_count": 18,
   "id": "c829813f",
   "metadata": {
    "vscode": {
     "languageId": "commonlisp"
    }
   },
   "outputs": [
    {
     "data": {
      "text/plain": [
       "X"
      ]
     },
     "execution_count": 18,
     "metadata": {},
     "output_type": "execute_result"
    },
    {
     "data": {
      "text/plain": [
       "20"
      ]
     },
     "execution_count": 18,
     "metadata": {},
     "output_type": "execute_result"
    },
    {
     "data": {
      "text/plain": [
       "40"
      ]
     },
     "execution_count": 18,
     "metadata": {},
     "output_type": "execute_result"
    }
   ],
   "source": [
    ";; define object with symbols\n",
    "(defvar x nil)\n",
    "(setf x 20)\n",
    "(+ x x)"
   ]
  },
  {
   "cell_type": "code",
   "execution_count": 25,
   "id": "1e08f13b",
   "metadata": {
    "vscode": {
     "languageId": "commonlisp"
    }
   },
   "outputs": [
    {
     "data": {
      "text/plain": [
       "((1ST ELEMENT) 2 (ELEMENT 3) ((4)) 5)"
      ]
     },
     "execution_count": 25,
     "metadata": {},
     "output_type": "execute_result"
    },
    {
     "data": {
      "text/plain": [
       "5"
      ]
     },
     "execution_count": 25,
     "metadata": {},
     "output_type": "execute_result"
    },
    {
     "data": {
      "text/plain": [
       "(1ST ELEMENT)"
      ]
     },
     "execution_count": 25,
     "metadata": {},
     "output_type": "execute_result"
    },
    {
     "data": {
      "text/plain": [
       "(4)"
      ]
     },
     "execution_count": 25,
     "metadata": {},
     "output_type": "execute_result"
    },
    {
     "data": {
      "text/plain": [
       "4"
      ]
     },
     "execution_count": 25,
     "metadata": {},
     "output_type": "execute_result"
    }
   ],
   "source": [
    ";; list reader\n",
    "(setf x '((1st element) 2 (element 3) ((4)) 5))\n",
    "(length x)\n",
    "(first x)\n",
    "(first (fourth x))\n",
    "(first (first (fourth x)))"
   ]
  },
  {
   "cell_type": "code",
   "execution_count": 36,
   "id": "27e3b954",
   "metadata": {
    "vscode": {
     "languageId": "commonlisp"
    }
   },
   "outputs": [
    {
     "data": {
      "text/plain": [
       "P"
      ]
     },
     "execution_count": 36,
     "metadata": {},
     "output_type": "execute_result"
    },
    {
     "data": {
      "text/plain": [
       "(JOHN Q PUBLIC)"
      ]
     },
     "execution_count": 36,
     "metadata": {},
     "output_type": "execute_result"
    },
    {
     "data": {
      "text/plain": [
       "(MR JOHN Q PUBLIC)"
      ]
     },
     "execution_count": 36,
     "metadata": {},
     "output_type": "execute_result"
    },
    {
     "data": {
      "text/plain": [
       "(JOHN Q PUBLIC)"
      ]
     },
     "execution_count": 36,
     "metadata": {},
     "output_type": "execute_result"
    },
    {
     "data": {
      "text/plain": [
       "(JOHN (Q PUBLIC))"
      ]
     },
     "execution_count": 36,
     "metadata": {},
     "output_type": "execute_result"
    },
    {
     "data": {
      "text/plain": [
       "(JOHN Q PUBLIC OF MAY HAVE WON)"
      ]
     },
     "execution_count": 36,
     "metadata": {},
     "output_type": "execute_result"
    }
   ],
   "source": [
    ";; list constructor\n",
    "(defvar p nil)\n",
    "(setf p '(John Q Public))\n",
    "(cons 'Mr p)\n",
    "(cons (first p) (rest p))  \n",
    ";; list constructs a list with elements in order\n",
    "(list (first p) (rest p))  \n",
    ";; append all the LIST together\n",
    "(append p '(of) '(may have won))"
   ]
  },
  {
   "cell_type": "code",
   "execution_count": 59,
   "id": "791c7805",
   "metadata": {
    "vscode": {
     "languageId": "commonlisp"
    }
   },
   "outputs": [
    {
     "data": {
      "text/plain": [
       "FIRST-NAME"
      ]
     },
     "execution_count": 59,
     "metadata": {},
     "output_type": "execute_result"
    },
    {
     "data": {
      "text/plain": [
       "LAST-NAME"
      ]
     },
     "execution_count": 59,
     "metadata": {},
     "output_type": "execute_result"
    },
    {
     "data": {
      "text/plain": [
       "PUBLIC"
      ]
     },
     "execution_count": 59,
     "metadata": {},
     "output_type": "execute_result"
    },
    {
     "data": {
      "text/plain": [
       "JOHN"
      ]
     },
     "execution_count": 59,
     "metadata": {},
     "output_type": "execute_result"
    },
    {
     "name": "stdout",
     "output_type": "stream",
     "text": [
      "SB-KERNEL:REDEFINITION-WITH-DEFUN: redefining COMMON-LISP-USER::FIRST-NAME in DEFUN\n",
      "SB-KERNEL:REDEFINITION-WITH-DEFUN: redefining COMMON-LISP-USER::LAST-NAME in DEFUN\n"
     ]
    }
   ],
   "source": [
    ";; declare procedure to work on data\n",
    "(defun first-name (name)\n",
    "    \"select the first name from a name represented as a list.\"\n",
    "    (first name))\n",
    "\n",
    "(defun last-name (name)\n",
    "    \"select last name from a name\"\n",
    "    (first (last name)))\n",
    "\n",
    "(last-name p)\n",
    "(first-name p)"
   ]
  },
  {
   "cell_type": "code",
   "execution_count": 60,
   "id": "be186676",
   "metadata": {
    "vscode": {
     "languageId": "commonlisp"
    }
   },
   "outputs": [
    {
     "data": {
      "text/plain": [
       "NAMES"
      ]
     },
     "execution_count": 60,
     "metadata": {},
     "output_type": "execute_result"
    },
    {
     "data": {
      "text/plain": [
       "(PUBLIC X HOPPER SPOT ARISTOTLE MILNE TOP OLIVIER SCARLET)"
      ]
     },
     "execution_count": 60,
     "metadata": {},
     "output_type": "execute_result"
    },
    {
     "data": {
      "text/plain": [
       "(JOHN MALCOLM ADMIRAL SPOT ARISTOTLE A Z SIR MISS)"
      ]
     },
     "execution_count": 60,
     "metadata": {},
     "output_type": "execute_result"
    },
    {
     "data": {
      "text/plain": [
       "(-1 -2 -3 -4)"
      ]
     },
     "execution_count": 60,
     "metadata": {},
     "output_type": "execute_result"
    },
    {
     "data": {
      "text/plain": [
       "(11 22 33 44)"
      ]
     },
     "execution_count": 60,
     "metadata": {},
     "output_type": "execute_result"
    }
   ],
   "source": [
    ";; function quote  maps name to function\n",
    ";; mapcar apply a functino using the first element (car) of the rest of lists\n",
    "(defvar names '(\n",
    "    (John Q Public)\n",
    "    (Malcolm X)\n",
    "    (Admiral Grace Murray Hopper)\n",
    "    (Spot)\n",
    "    (Aristotle) \n",
    "    (A A Milne)\n",
    "    (Z Z Top)\n",
    "    (Sir Larry Olivier)\n",
    "    (Miss Scarlet)))\n",
    " \n",
    "(mapcar #'last-name names)\n",
    "(mapcar #'first-name names)\n",
    "(mapcar #'- '(1 2 3 4))\n",
    ";; multiple arguments\n",
    "(mapcar #'+ '(1 2 3 4) '(10 20 30 40))"
   ]
  },
  {
   "cell_type": "code",
   "execution_count": 61,
   "id": "5d8134bf",
   "metadata": {
    "vscode": {
     "languageId": "commonlisp"
    }
   },
   "outputs": [
    {
     "data": {
      "text/plain": [
       "*TITLES*"
      ]
     },
     "execution_count": 61,
     "metadata": {},
     "output_type": "execute_result"
    }
   ],
   "source": [
    ";; declare parameter whose value don't change. (like hyper parameter) \n",
    "(defparameter *titles*\n",
    "    '(Mr Mrs Miss Ms Sir Madam Dr Admiral Major General)\n",
    "    \"A list of titles that can appear at the start of a name.\")"
   ]
  },
  {
   "cell_type": "code",
   "execution_count": 63,
   "id": "cfe49ea0",
   "metadata": {
    "vscode": {
     "languageId": "commonlisp"
    }
   },
   "outputs": [
    {
     "data": {
      "text/plain": [
       "FIRST-NAME"
      ]
     },
     "execution_count": 63,
     "metadata": {},
     "output_type": "execute_result"
    },
    {
     "data": {
      "text/plain": [
       "(JOHN MALCOLM GRACE SPOT ARISTOTLE A Z LARRY SCARLET)"
      ]
     },
     "execution_count": 63,
     "metadata": {},
     "output_type": "execute_result"
    },
    {
     "name": "stdout",
     "output_type": "stream",
     "text": [
      "SB-KERNEL:REDEFINITION-WITH-DEFUN: redefining COMMON-LISP-USER::FIRST-NAME in DEFUN\n"
     ]
    }
   ],
   "source": [
    ";; redefine the name\n",
    "(defun first-name (name)\n",
    "    (if (member (first name) *titles*)\n",
    "        (first-name (rest name))\n",
    "        (first name)))\n",
    "\n",
    "(mapcar #'first-name names)"
   ]
  },
  {
   "cell_type": "code",
   "execution_count": 67,
   "id": "1cfdd5dc",
   "metadata": {
    "vscode": {
     "languageId": "commonlisp"
    }
   },
   "outputs": [
    {
     "data": {
      "text/plain": [
       "(FIRST-NAME)"
      ]
     },
     "execution_count": 67,
     "metadata": {},
     "output_type": "execute_result"
    },
    {
     "name": "stdout",
     "output_type": "stream",
     "text": [
      "SIMPLE-WARNING: FIRST-NAME is already TRACE'd, untracing it first.\n",
      "  0: (FIRST-NAME (JOHN Q PUBLIC))\n",
      "  0: FIRST-NAME returned JOHN\n"
     ]
    },
    {
     "data": {
      "text/plain": [
       "JOHN"
      ]
     },
     "execution_count": 67,
     "metadata": {},
     "output_type": "execute_result"
    },
    {
     "name": "stdout",
     "output_type": "stream",
     "text": [
      "  0: (FIRST-NAME (MADAM MAJOR GENERAL PAULA JONES))\n",
      "    1: (FIRST-NAME (MAJOR GENERAL PAULA JONES))\n",
      "      2: (FIRST-NAME (GENERAL PAULA JONES))\n",
      "        3: (FIRST-NAME (PAULA JONES))\n",
      "        3: FIRST-NAME returned PAULA\n",
      "      2: FIRST-NAME returned PAULA\n",
      "    1: FIRST-NAME returned PAULA\n",
      "  0: FIRST-NAME returned PAULA\n"
     ]
    },
    {
     "data": {
      "text/plain": [
       "PAULA"
      ]
     },
     "execution_count": 67,
     "metadata": {},
     "output_type": "execute_result"
    }
   ],
   "source": [
    ";; use `trace` to see how a program works\n",
    "(trace first-name)\n",
    "\n",
    "(first-name '(John Q Public))\n",
    "(first-name '(Madam Major General Paula Jones))"
   ]
  },
  {
   "cell_type": "code",
   "execution_count": 69,
   "id": "916ee1f0",
   "metadata": {
    "vscode": {
     "languageId": "commonlisp"
    }
   },
   "outputs": [
    {
     "data": {
      "text/plain": [
       "T"
      ]
     },
     "execution_count": 69,
     "metadata": {},
     "output_type": "execute_result"
    },
    {
     "name": "stdout",
     "output_type": "stream",
     "text": [
      "SIMPLE-WARNING: Function is not TRACEd: FIRST-NAME\n"
     ]
    }
   ],
   "source": [
    "(untrace first-name)"
   ]
  },
  {
   "cell_type": "code",
   "execution_count": 72,
   "id": "e3dc3e8f",
   "metadata": {
    "vscode": {
     "languageId": "commonlisp"
    }
   },
   "outputs": [
    {
     "data": {
      "text/plain": [
       "MAPPEND"
      ]
     },
     "execution_count": 72,
     "metadata": {},
     "output_type": "execute_result"
    },
    {
     "data": {
      "text/plain": [
       "SELF-AND-DOUBLE"
      ]
     },
     "execution_count": 72,
     "metadata": {},
     "output_type": "execute_result"
    },
    {
     "data": {
      "text/plain": [
       "((1 2) (10 20) (300 600))"
      ]
     },
     "execution_count": 72,
     "metadata": {},
     "output_type": "execute_result"
    },
    {
     "data": {
      "text/plain": [
       "(1 2 10 20 300 600)"
      ]
     },
     "execution_count": 72,
     "metadata": {},
     "output_type": "execute_result"
    },
    {
     "name": "stdout",
     "output_type": "stream",
     "text": [
      "SB-KERNEL:REDEFINITION-WITH-DEFUN: redefining COMMON-LISP-USER::MAPPEND in DEFUN\n",
      "SB-KERNEL:REDEFINITION-WITH-DEFUN: redefining COMMON-LISP-USER::SELF-AND-DOUBLE in DEFUN\n"
     ]
    }
   ],
   "source": [
    ";; define of high-order function\n",
    "(defun mappend (fn the-list)\n",
    "    \"Apply fn to the list and append the results\"\n",
    "    (apply #'append (mapcar fn the-list)))\n",
    "(defun self-and-double (x) (list x (+ x x)))\n",
    "\n",
    "(mapcar #'self-and-double '(1 10 300))\n",
    "(mappend #'self-and-double '(1 10 300))"
   ]
  },
  {
   "cell_type": "code",
   "execution_count": 74,
   "id": "edae39c9",
   "metadata": {
    "vscode": {
     "languageId": "commonlisp"
    }
   },
   "outputs": [
    {
     "data": {
      "text/plain": [
       "NUMBERS-AND-NEGATIONS"
      ]
     },
     "execution_count": 74,
     "metadata": {},
     "output_type": "execute_result"
    },
    {
     "data": {
      "text/plain": [
       "NUMBER-AND-NEGATION"
      ]
     },
     "execution_count": 74,
     "metadata": {},
     "output_type": "execute_result"
    },
    {
     "data": {
      "text/plain": [
       "(1 -1 2 -2 3 -3)"
      ]
     },
     "execution_count": 74,
     "metadata": {},
     "output_type": "execute_result"
    },
    {
     "name": "stdout",
     "output_type": "stream",
     "text": [
      "SB-KERNEL:REDEFINITION-WITH-DEFUN: redefining COMMON-LISP-USER::NUMBERS-AND-NEGATIONS in DEFUN\n",
      "SB-KERNEL:REDEFINITION-WITH-DEFUN: redefining COMMON-LISP-USER::NUMBER-AND-NEGATION in DEFUN\n"
     ]
    }
   ],
   "source": [
    ";; more examples\n",
    "(defun numbers-and-negations (input)\n",
    "    \"Given a list, return only the numbers and their negations.\"\n",
    "    (mappend #'number-and-negation input))\n",
    "\n",
    "(defun number-and-negation (x)\n",
    "    \"If x is a number, return a list of x and -x.\"\n",
    "    (if (numberp x)\n",
    "        (list x (- x))\n",
    "        nil))\n",
    "\n",
    "(numbers-and-negations '(testing 1 2 3 test))"
   ]
  },
  {
   "cell_type": "code",
   "execution_count": 76,
   "id": "4c22bedc",
   "metadata": {
    "vscode": {
     "languageId": "commonlisp"
    }
   },
   "outputs": [
    {
     "data": {
      "text/plain": [
       "(3 4 5 6)"
      ]
     },
     "execution_count": 76,
     "metadata": {},
     "output_type": "execute_result"
    }
   ],
   "source": [
    ";; lambda, anonymous function\n",
    ";; lambda returns the name of a function\n",
    "(mapcar #'(lambda (x) (+ x 2)) '(1 2 3 4))"
   ]
  },
  {
   "cell_type": "markdown",
   "id": "d19f1f18",
   "metadata": {},
   "source": [
    "# Exercise"
   ]
  },
  {
   "cell_type": "code",
   "execution_count": 83,
   "id": "422112e9",
   "metadata": {
    "vscode": {
     "languageId": "commonlisp"
    }
   },
   "outputs": [
    {
     "data": {
      "text/plain": [
       "*SUFFIXS*"
      ]
     },
     "execution_count": 83,
     "metadata": {},
     "output_type": "execute_result"
    },
    {
     "data": {
      "text/plain": [
       "LAST-NAME"
      ]
     },
     "execution_count": 83,
     "metadata": {},
     "output_type": "execute_result"
    },
    {
     "data": {
      "text/plain": [
       "(PUBLIC MALCOLM HOPPER SPOT ARISTOTLE MILNE TOP OLIVIER SCARLET)"
      ]
     },
     "execution_count": 83,
     "metadata": {},
     "output_type": "execute_result"
    },
    {
     "name": "stdout",
     "output_type": "stream",
     "text": [
      "SB-KERNEL:REDEFINITION-WITH-DEFUN: redefining COMMON-LISP-USER::LAST-NAME in DEFUN\n"
     ]
    }
   ],
   "source": [
    ";; 1.1\n",
    "(defparameter *suffixs*\n",
    "    '(MD JR SR I II III IV V VI VII VIII IX X)\n",
    "    \"A list of suffixs that can appear at the end of a name.\")\n",
    "\n",
    "(defun last-name (name)\n",
    "    \"select last name from a name\"\n",
    "    (if (member (first (last name)) *suffixs*)\n",
    "        (last-name (butlast name))\n",
    "        (first (last name))))\n",
    "\n",
    "(mapcar #'last-name names)"
   ]
  },
  {
   "cell_type": "code",
   "execution_count": 97,
   "id": "da10b669",
   "metadata": {
    "vscode": {
     "languageId": "commonlisp"
    }
   },
   "outputs": [
    {
     "data": {
      "text/plain": [
       "POWER"
      ]
     },
     "execution_count": 97,
     "metadata": {},
     "output_type": "execute_result"
    },
    {
     "data": {
      "text/plain": [
       "1024"
      ]
     },
     "execution_count": 97,
     "metadata": {},
     "output_type": "execute_result"
    },
    {
     "name": "stdout",
     "output_type": "stream",
     "text": [
      "SB-KERNEL:REDEFINITION-WITH-DEFUN: redefining COMMON-LISP-USER::POWER in DEFUN\n"
     ]
    }
   ],
   "source": [
    ";; 1.2\n",
    "(defun power (n pow)\n",
    "    \"raise n to power\"\n",
    "    (if (= pow 0)\n",
    "        1\n",
    "        (* n (power n (- pow 1)))))\n",
    "\n",
    "(power 2 10)"
   ]
  },
  {
   "cell_type": "code",
   "execution_count": 139,
   "id": "402712c0",
   "metadata": {
    "vscode": {
     "languageId": "commonlisp"
    }
   },
   "outputs": [
    {
     "data": {
      "text/plain": [
       "COUNT-ATOMS"
      ]
     },
     "execution_count": 139,
     "metadata": {},
     "output_type": "execute_result"
    },
    {
     "data": {
      "text/plain": [
       "3"
      ]
     },
     "execution_count": 139,
     "metadata": {},
     "output_type": "execute_result"
    },
    {
     "data": {
      "text/plain": [
       "2"
      ]
     },
     "execution_count": 139,
     "metadata": {},
     "output_type": "execute_result"
    },
    {
     "name": "stdout",
     "output_type": "stream",
     "text": [
      "SB-KERNEL:REDEFINITION-WITH-DEFUN: redefining COMMON-LISP-USER::COUNT-ATOMS in DEFUN\n"
     ]
    }
   ],
   "source": [
    ";; 1.3\n",
    "(defun count-atoms (list_or_atom)\n",
    "    (if (listp list_or_atom)\n",
    "        (apply #'+ (mapcar #'count-atoms list_or_atom))\n",
    "        (if (null list_or_atom) 0 1)))\n",
    "\n",
    "(count-atoms '(a (b) c))\n",
    "(count-atoms '(a () c))"
   ]
  },
  {
   "cell_type": "code",
   "execution_count": 138,
   "id": "1f55342c",
   "metadata": {
    "vscode": {
     "languageId": "commonlisp"
    }
   },
   "outputs": [
    {
     "data": {
      "text/plain": [
       "COUNT-ANYWHERE"
      ]
     },
     "execution_count": 138,
     "metadata": {},
     "output_type": "execute_result"
    },
    {
     "data": {
      "text/plain": [
       "1"
      ]
     },
     "execution_count": 138,
     "metadata": {},
     "output_type": "execute_result"
    },
    {
     "data": {
      "text/plain": [
       "1"
      ]
     },
     "execution_count": 138,
     "metadata": {},
     "output_type": "execute_result"
    },
    {
     "data": {
      "text/plain": [
       "3"
      ]
     },
     "execution_count": 138,
     "metadata": {},
     "output_type": "execute_result"
    },
    {
     "name": "stdout",
     "output_type": "stream",
     "text": [
      "SB-KERNEL:REDEFINITION-WITH-DEFUN: redefining COMMON-LISP-USER::COUNT-ANYWHERE in DEFUN\n"
     ]
    }
   ],
   "source": [
    ";; 1.4\n",
    "(defun count-anywhere (testa list_or_atom)\n",
    "    (if (listp list_or_atom)\n",
    "        (apply #'+ (mapcar #'(lambda (x) (count-anywhere testa x)) list_or_atom))\n",
    "        (if (equal testa list_or_atom) 1 0)))\n",
    "\n",
    "(count-anywhere 'a 'a)\n",
    "(count-anywhere 'a '(a))\n",
    "(count-anywhere 'a '(a ((a) b) a))"
   ]
  },
  {
   "cell_type": "code",
   "execution_count": 137,
   "id": "bba1d550",
   "metadata": {
    "vscode": {
     "languageId": "commonlisp"
    }
   },
   "outputs": [
    {
     "data": {
      "text/plain": [
       "DOT-PRODUCT"
      ]
     },
     "execution_count": 137,
     "metadata": {},
     "output_type": "execute_result"
    },
    {
     "data": {
      "text/plain": [
       "110"
      ]
     },
     "execution_count": 137,
     "metadata": {},
     "output_type": "execute_result"
    },
    {
     "name": "stdout",
     "output_type": "stream",
     "text": [
      "SB-KERNEL:REDEFINITION-WITH-DEFUN: redefining COMMON-LISP-USER::DOT-PRODUCT in DEFUN\n"
     ]
    }
   ],
   "source": [
    ";; 1.5\n",
    "(defun dot-product (v1 v2)\n",
    "    (apply #'+ (mapcar #'* v1 v2)))\n",
    "\n",
    "(dot-product '(10 20) '(3 4)) "
   ]
  }
 ],
 "metadata": {
  "kernelspec": {
   "display_name": "Common Lisp",
   "language": "common-lisp",
   "name": "common-lisp"
  },
  "language_info": {
   "codemirror_mode": "text/x-common-lisp",
   "file_extension": ".lisp",
   "mimetype": "text/x-common-lisp",
   "name": "common-lisp",
   "pygments_lexer": "common-lisp",
   "version": "2.3.2"
  }
 },
 "nbformat": 4,
 "nbformat_minor": 5
}
