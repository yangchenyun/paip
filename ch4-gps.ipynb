{
 "cells": [
  {
   "attachments": {},
   "cell_type": "markdown",
   "metadata": {},
   "source": [
    "# Chapter 4: GPS - The General Problem Solver"
   ]
  },
  {
   "cell_type": "code",
   "execution_count": 2,
   "metadata": {
    "vscode": {
     "languageId": "commonlisp"
    }
   },
   "outputs": [
    {
     "data": {
      "text/plain": [
       "T"
      ]
     },
     "execution_count": 2,
     "metadata": {},
     "output_type": "execute_result"
    },
    {
     "data": {
      "text/plain": [
       "T"
      ]
     },
     "execution_count": 2,
     "metadata": {},
     "output_type": "execute_result"
    },
    {
     "name": "stdout",
     "output_type": "stream",
     "text": [
      "SB-KERNEL:REDEFINITION-WITH-DEFUN: redefining UTILS:MAPPEND in DEFUN\n",
      "SB-KERNEL:REDEFINITION-WITH-DEFUN: redefining UTILS:CROSS-PRODUCT in DEFUN\n",
      "SB-KERNEL:REDEFINITION-WITH-DEFUN: redefining UTILS:COMBINE-ALL in DEFUN\n",
      "SB-KERNEL:REDEFINITION-WITH-DEFUN: redefining UTILS:FIND-ALL in DEFUN\n"
     ]
    }
   ],
   "source": [
    "(load \"utils.lisp\")\n",
    "(use-package :utils)"
   ]
  },
  {
   "cell_type": "code",
   "execution_count": 3,
   "metadata": {
    "vscode": {
     "languageId": "commonlisp"
    }
   },
   "outputs": [
    {
     "data": {
      "text/plain": [
       "*CURRENT*"
      ]
     },
     "execution_count": 3,
     "metadata": {},
     "output_type": "execute_result"
    },
    {
     "data": {
      "text/plain": [
       "*OPS*"
      ]
     },
     "execution_count": 3,
     "metadata": {},
     "output_type": "execute_result"
    },
    {
     "data": {
      "text/plain": [
       "OP"
      ]
     },
     "execution_count": 3,
     "metadata": {},
     "output_type": "execute_result"
    },
    {
     "data": {
      "text/plain": [
       "GPS"
      ]
     },
     "execution_count": 3,
     "metadata": {},
     "output_type": "execute_result"
    },
    {
     "data": {
      "text/plain": [
       "ACHIEVE"
      ]
     },
     "execution_count": 3,
     "metadata": {},
     "output_type": "execute_result"
    },
    {
     "data": {
      "text/plain": [
       "APPROPRIATE-P"
      ]
     },
     "execution_count": 3,
     "metadata": {},
     "output_type": "execute_result"
    },
    {
     "data": {
      "text/plain": [
       "APPLY-OP"
      ]
     },
     "execution_count": 3,
     "metadata": {},
     "output_type": "execute_result"
    },
    {
     "data": {
      "text/plain": [
       "*SCHOOL-OPS*"
      ]
     },
     "execution_count": 3,
     "metadata": {},
     "output_type": "execute_result"
    },
    {
     "name": "stdout",
     "output_type": "stream",
     "text": [
      "SB-INT:SIMPLE-STYLE-WARNING: undefined function: COMMON-LISP-USER::ACHIEVE\n",
      "SB-INT:SIMPLE-STYLE-WARNING: undefined function: COMMON-LISP-USER::APPLY-OP\n",
      "SB-INT:SIMPLE-STYLE-WARNING: undefined function: COMMON-LISP-USER::APPROPRIATE-P\n"
     ]
    }
   ],
   "source": [
    "(defvar *current* nil \"the current states of world\")\n",
    "(defvar *ops* '() \"list of available options\")\n",
    "\n",
    "(defstruct op\n",
    "    \"An operation\"\n",
    "    action preconds add-list del-list)\n",
    "\n",
    "(defun GPS (*current* goals *ops*)\n",
    "    (if (every #'achieve goals) 'solved))\n",
    "\n",
    "(defun achieve (goal) \n",
    "    (or (member goal *current*)\n",
    "        (some #'apply-op (find-all goal *ops* :test #'appropriate-p))))\n",
    "\n",
    "(defun appropriate-p (goal op)\n",
    "    \"An op is appropriate if the goal is in its add-list.\"\n",
    "    (member goal (op-add-list op)))\n",
    "\n",
    "(defun apply-op (op)\n",
    "    \"Apply `op` to the current world state.\"\n",
    "    (when (every #'achieve (op-preconds op))   ;; achieve check other operation recursively\n",
    "        (print (list 'executing (op-action op)))\n",
    "        (setf *current* (set-difference (union (op-add-list op) *current*) (op-del-list op)))\n",
    "        ; (format t \"op:~a preconditions ~a are not met\" (op-action op) (op-preconds op))\n",
    "        t))\n",
    "\n",
    "(defparameter *school-ops*\n",
    "  (list\n",
    "    (make-op :action 'drive-son-to-school\n",
    "         :preconds '(son-at-home car-works)\n",
    "         :add-list '(son-at-school)\n",
    "         :del-list '(son-at-home))\n",
    "    (make-op :action 'shop-installs-battery\n",
    "         :preconds '(car-needs-battery shop-knows-problem shop-has-money)\n",
    "         :add-list '(car-works))\n",
    "    (make-op :action 'tell-shop-problem\n",
    "         :preconds '(in-communication-with-shop)\n",
    "         :add-list '(shop-knows-problem))\n",
    "    (make-op :action 'telephone-shop\n",
    "         :preconds '(know-phone-number)\n",
    "         :add-list '(in-communication-with-shop))\n",
    "    (make-op :action 'look-up-number\n",
    "         :preconds '(have-phone-book)\n",
    "         :add-list '(know-phone-number))\n",
    "    (make-op :action 'give-shop-money\n",
    "         :preconds '(have-money)\n",
    "         :add-list '(shop-has-money)\n",
    "         :del-list '(have-money))))"
   ]
  },
  {
   "cell_type": "code",
   "execution_count": 4,
   "metadata": {
    "vscode": {
     "languageId": "commonlisp"
    }
   },
   "outputs": [
    {
     "data": {
      "text/plain": [
       "SOLVED"
      ]
     },
     "execution_count": 4,
     "metadata": {},
     "output_type": "execute_result"
    },
    {
     "name": "stdout",
     "output_type": "stream",
     "text": [
      "\n",
      "(EXECUTING LOOK-UP-NUMBER) \n",
      "(EXECUTING TELEPHONE-SHOP) \n",
      "(EXECUTING TELL-SHOP-PROBLEM) \n",
      "(EXECUTING GIVE-SHOP-MONEY) \n",
      "(EXECUTING SHOP-INSTALLS-BATTERY) \n",
      "(EXECUTING DRIVE-SON-TO-SCHOOL) "
     ]
    }
   ],
   "source": [
    "(gps '(son-at-home car-needs-battery have-money have-phone-book)\n",
    "    '(son-at-school)\n",
    "    *school-ops*)"
   ]
  },
  {
   "cell_type": "code",
   "execution_count": 5,
   "metadata": {
    "vscode": {
     "languageId": "commonlisp"
    }
   },
   "outputs": [
    {
     "data": {
      "text/plain": [
       "NIL"
      ]
     },
     "execution_count": 5,
     "metadata": {},
     "output_type": "execute_result"
    },
    {
     "name": "stdout",
     "output_type": "stream",
     "text": [
      "\n",
      "(EXECUTING LOOK-UP-NUMBER) \n",
      "(EXECUTING TELEPHONE-SHOP) \n",
      "(EXECUTING TELL-SHOP-PROBLEM) "
     ]
    }
   ],
   "source": [
    ";; the phone book look up is executed because in the preconds, things are evaluated left to right\n",
    ";; => '(car-needs-battery shop-knows-problem shop-has-money)\n",
    "(gps '(son-at-home car-needs-battery have-phone-book)\n",
    "    '(son-at-school)\n",
    "    *school-ops*)"
   ]
  },
  {
   "cell_type": "code",
   "execution_count": 6,
   "metadata": {
    "vscode": {
     "languageId": "commonlisp"
    }
   },
   "outputs": [
    {
     "data": {
      "text/plain": [
       "ACHIEVE-ALL"
      ]
     },
     "execution_count": 6,
     "metadata": {},
     "output_type": "execute_result"
    },
    {
     "data": {
      "text/plain": [
       "GPS"
      ]
     },
     "execution_count": 6,
     "metadata": {},
     "output_type": "execute_result"
    },
    {
     "data": {
      "text/plain": [
       "NIL"
      ]
     },
     "execution_count": 6,
     "metadata": {},
     "output_type": "execute_result"
    },
    {
     "name": "stdout",
     "output_type": "stream",
     "text": [
      "SB-KERNEL:REDEFINITION-WITH-DEFUN: redefining COMMON-LISP-USER::GPS in DEFUN\n",
      "\n",
      "(EXECUTING LOOK-UP-NUMBER) \n",
      "(EXECUTING TELEPHONE-SHOP) \n",
      "(EXECUTING TELL-SHOP-PROBLEM) \n",
      "(EXECUTING GIVE-SHOP-MONEY) \n",
      "(EXECUTING SHOP-INSTALLS-BATTERY) \n",
      "(EXECUTING DRIVE-SON-TO-SCHOOL) "
     ]
    }
   ],
   "source": [
    ";; Problem 2: competing goals\n",
    "(defun achieve-all (goals)\n",
    "    (and (every #'achieve goals) (subsetp goals *current*)))\n",
    "\n",
    "(defun GPS (*current* goals *ops*)\n",
    "    (if (achieve-all goals) 'solved))\n",
    "\n",
    "(gps '(son-at-home car-needs-battery have-money have-phone-book)\n",
    "    '(have-money son-at-school)\n",
    "    *school-ops*)"
   ]
  },
  {
   "cell_type": "code",
   "execution_count": 7,
   "metadata": {
    "vscode": {
     "languageId": "commonlisp"
    }
   },
   "outputs": [
    {
     "data": {
      "text/plain": [
       "(#S(OP\n",
       "    :ACTION ASK-PHONE-NUMBER\n",
       "    :PRECONDS (IN-COMMUNICATION-WITH-SHOP)\n",
       "    :ADD-LIST (KNOW-PHONE-NUMBER)\n",
       "    :DEL-LIST NIL)\n",
       " #S(OP\n",
       "    :ACTION DRIVE-SON-TO-SCHOOL\n",
       "    :PRECONDS (SON-AT-HOME CAR-WORKS)\n",
       "    :ADD-LIST (SON-AT-SCHOOL)\n",
       "    :DEL-LIST (SON-AT-HOME))\n",
       " #S(OP\n",
       "    :ACTION SHOP-INSTALLS-BATTERY\n",
       "    :PRECONDS (CAR-NEEDS-BATTERY SHOP-KNOWS-PROBLEM SHOP-HAS-MONEY)\n",
       "    :ADD-LIST (CAR-WORKS)\n",
       "    :DEL-LIST NIL)\n",
       " #S(OP\n",
       "    :ACTION TELL-SHOP-PROBLEM\n",
       "    :PRECONDS (IN-COMMUNICATION-WITH-SHOP)\n",
       "    :ADD-LIST (SHOP-KNOWS-PROBLEM)\n",
       "    :DEL-LIST NIL)\n",
       " #S(OP\n",
       "    :ACTION TELEPHONE-SHOP\n",
       "    :PRECONDS (KNOW-PHONE-NUMBER)\n",
       "    :ADD-LIST (IN-COMMUNICATION-WITH-SHOP)\n",
       "    :DEL-LIST NIL)\n",
       " #S(OP\n",
       "    :ACTION LOOK-UP-NUMBER\n",
       "    :PRECONDS (HAVE-PHONE-BOOK)\n",
       "    :ADD-LIST (KNOW-PHONE-NUMBER)\n",
       "    :DEL-LIST NIL)\n",
       " #S(OP\n",
       "    :ACTION GIVE-SHOP-MONEY\n",
       "    :PRECONDS (HAVE-MONEY)\n",
       "    :ADD-LIST (SHOP-HAS-MONEY)\n",
       "    :DEL-LIST (HAVE-MONEY)))"
      ]
     },
     "execution_count": 7,
     "metadata": {},
     "output_type": "execute_result"
    }
   ],
   "source": [
    ";; problem 4: recursive subgoal problem\n",
    "(push (make-op :action 'ask-phone-number\n",
    "      :preconds '(in-communication-with-shop)\n",
    "      :add-list '(know-phone-number))\n",
    "    *school-ops*)\n",
    "\n",
    "; (gps '(son-at-home car-needs-battery have-money)\n",
    "; '(son-at-school)\n",
    "; *school-ops*)"
   ]
  },
  {
   "cell_type": "code",
   "execution_count": 8,
   "metadata": {
    "vscode": {
     "languageId": "commonlisp"
    }
   },
   "outputs": [
    {
     "data": {
      "text/plain": [
       "*DBG-IDS*"
      ]
     },
     "execution_count": 8,
     "metadata": {},
     "output_type": "execute_result"
    },
    {
     "data": {
      "text/plain": [
       "DBG"
      ]
     },
     "execution_count": 8,
     "metadata": {},
     "output_type": "execute_result"
    },
    {
     "data": {
      "text/plain": [
       "DBG-INDENT"
      ]
     },
     "execution_count": 8,
     "metadata": {},
     "output_type": "execute_result"
    },
    {
     "data": {
      "text/plain": [
       "DEBUG1"
      ]
     },
     "execution_count": 8,
     "metadata": {},
     "output_type": "execute_result"
    },
    {
     "data": {
      "text/plain": [
       "UNDEBUG1"
      ]
     },
     "execution_count": 8,
     "metadata": {},
     "output_type": "execute_result"
    },
    {
     "data": {
      "text/plain": [
       "(:GPS)"
      ]
     },
     "execution_count": 8,
     "metadata": {},
     "output_type": "execute_result"
    },
    {
     "data": {
      "text/plain": [
       "T"
      ]
     },
     "execution_count": 8,
     "metadata": {},
     "output_type": "execute_result"
    },
    {
     "data": {
      "text/plain": [
       "NIL"
      ]
     },
     "execution_count": 8,
     "metadata": {},
     "output_type": "execute_result"
    },
    {
     "data": {
      "text/plain": [
       "NIL"
      ]
     },
     "execution_count": 8,
     "metadata": {},
     "output_type": "execute_result"
    },
    {
     "name": "stdout",
     "output_type": "stream",
     "text": [
      "\n",
      "this is ((1 2 3))\n",
      "  this is ((1 2 3))"
     ]
    }
   ],
   "source": [
    ";; Build debugging tools\n",
    "(defvar *dbg-ids* nil \"identifiers used by `dbg`\")\n",
    "\n",
    "(defun dbg (id fmt-string &rest fmt-args)\n",
    "    (when (member id *dbg-ids*)\n",
    "        (fresh-line *debug-io*)\n",
    "        (format *debug-io* fmt-string fmt-args)\n",
    "        t))\n",
    "\n",
    "(defun dbg-indent (id indent fmt-string &rest fmt-args)\n",
    "  \"Print indented debugging info if (DEBUG ID) has been specified.\"\n",
    "  (when (member id *dbg-ids*)\n",
    "    (fresh-line *debug-io*)\n",
    "    (dotimes (i indent) (princ \" \" *debug-io*))\n",
    "    (format *debug-io* fmt-string fmt-args)))\n",
    "\n",
    "(defun debug1 (&rest ids)\n",
    "    \"turn on `dbg` for id\"\n",
    "    (setq *dbg-ids* (union ids *dbg-ids*)))\n",
    "\n",
    "(defun undebug1 (&rest ids)\n",
    "    \"turn off `dbg` for id\"\n",
    "    (setq *dbg-ids* \n",
    "        (if (null ids) nil (set-difference *dbg-ids* ids))))\n",
    "\n",
    ";; testing code\n",
    "(debug1 :gps)\n",
    "(dbg :gps \"this is ~a\" '(1 2 3))\n",
    "(dbg-indent :gps 2 \"this is ~a\" '(1 2 3))\n",
    "(undebug1)"
   ]
  },
  {
   "cell_type": "code",
   "execution_count": 9,
   "metadata": {
    "vscode": {
     "languageId": "commonlisp"
    }
   },
   "outputs": [
    {
     "data": {
      "text/plain": [
       "STARTS-WITH"
      ]
     },
     "execution_count": 9,
     "metadata": {},
     "output_type": "execute_result"
    },
    {
     "data": {
      "text/plain": [
       "EXECUTING-P"
      ]
     },
     "execution_count": 9,
     "metadata": {},
     "output_type": "execute_result"
    },
    {
     "data": {
      "text/plain": [
       "CONVERT-OP"
      ]
     },
     "execution_count": 9,
     "metadata": {},
     "output_type": "execute_result"
    },
    {
     "data": {
      "text/plain": [
       "OP"
      ]
     },
     "execution_count": 9,
     "metadata": {},
     "output_type": "execute_result"
    },
    {
     "data": {
      "text/plain": [
       "(#S(OP\n",
       "    :ACTION ASK-PHONE-NUMBER\n",
       "    :PRECONDS (IN-COMMUNICATION-WITH-SHOP)\n",
       "    :ADD-LIST ((EXECUTING ASK-PHONE-NUMBER) KNOW-PHONE-NUMBER)\n",
       "    :DEL-LIST NIL)\n",
       " #S(OP\n",
       "    :ACTION DRIVE-SON-TO-SCHOOL\n",
       "    :PRECONDS (SON-AT-HOME CAR-WORKS)\n",
       "    :ADD-LIST ((EXECUTING DRIVE-SON-TO-SCHOOL) SON-AT-SCHOOL)\n",
       "    :DEL-LIST (SON-AT-HOME))\n",
       " #S(OP\n",
       "    :ACTION SHOP-INSTALLS-BATTERY\n",
       "    :PRECONDS (CAR-NEEDS-BATTERY SHOP-KNOWS-PROBLEM SHOP-HAS-MONEY)\n",
       "    :ADD-LIST ((EXECUTING SHOP-INSTALLS-BATTERY) CAR-WORKS)\n",
       "    :DEL-LIST NIL)\n",
       " #S(OP\n",
       "    :ACTION TELL-SHOP-PROBLEM\n",
       "    :PRECONDS (IN-COMMUNICATION-WITH-SHOP)\n",
       "    :ADD-LIST ((EXECUTING TELL-SHOP-PROBLEM) SHOP-KNOWS-PROBLEM)\n",
       "    :DEL-LIST NIL)\n",
       " #S(OP\n",
       "    :ACTION TELEPHONE-SHOP\n",
       "    :PRECONDS (KNOW-PHONE-NUMBER)\n",
       "    :ADD-LIST ((EXECUTING TELEPHONE-SHOP) IN-COMMUNICATION-WITH-SHOP)\n",
       "    :DEL-LIST NIL)\n",
       " #S(OP\n",
       "    :ACTION LOOK-UP-NUMBER\n",
       "    :PRECONDS (HAVE-PHONE-BOOK)\n",
       "    :ADD-LIST ((EXECUTING LOOK-UP-NUMBER) KNOW-PHONE-NUMBER)\n",
       "    :DEL-LIST NIL)\n",
       " #S(OP\n",
       "    :ACTION GIVE-SHOP-MONEY\n",
       "    :PRECONDS (HAVE-MONEY)\n",
       "    :ADD-LIST ((EXECUTING GIVE-SHOP-MONEY) SHOP-HAS-MONEY)\n",
       "    :DEL-LIST (HAVE-MONEY)))"
      ]
     },
     "execution_count": 9,
     "metadata": {},
     "output_type": "execute_result"
    }
   ],
   "source": [
    ";; Iterate on version 2\n",
    "(defun starts-with (list x)\n",
    "    (and (consp list) (eql (first list) x)))\n",
    "\n",
    "(defun executing-p (x)\n",
    "    \"Is x of the form (executing ...)\"\n",
    "    (starts-with x 'executing))\n",
    "\n",
    "(defun convert-op (op)\n",
    "    \"Make op conform to (executing op) convention\"\n",
    "    (unless (some #'executing-p (op-add-list op))\n",
    "        (push (list 'executing (op-action op)) (op-add-list op)))\n",
    "        op)\n",
    "\n",
    ";; defines (executing action) as a state as well\n",
    "(defun op (action &key preconds add-list del-list)\n",
    "    (convert-op\n",
    "        (make-op :action action :preconds preconds\n",
    "        :add-list add-list :del-list del-list)))\n",
    "\n",
    ";; update the existing data structure\n",
    "(mapc #'convert-op *school-ops*)"
   ]
  },
  {
   "cell_type": "code",
   "execution_count": 10,
   "metadata": {
    "vscode": {
     "languageId": "commonlisp"
    }
   },
   "outputs": [
    {
     "data": {
      "text/plain": [
       "GPS"
      ]
     },
     "execution_count": 10,
     "metadata": {},
     "output_type": "execute_result"
    },
    {
     "data": {
      "text/plain": [
       "ACHIEVE"
      ]
     },
     "execution_count": 10,
     "metadata": {},
     "output_type": "execute_result"
    },
    {
     "data": {
      "text/plain": [
       "ACHIEVE-ALL"
      ]
     },
     "execution_count": 10,
     "metadata": {},
     "output_type": "execute_result"
    },
    {
     "data": {
      "text/plain": [
       "MEMBER-EQUAL"
      ]
     },
     "execution_count": 10,
     "metadata": {},
     "output_type": "execute_result"
    },
    {
     "data": {
      "text/plain": [
       "APPLY-OP"
      ]
     },
     "execution_count": 10,
     "metadata": {},
     "output_type": "execute_result"
    },
    {
     "data": {
      "text/plain": [
       "APPROPRIATE-P"
      ]
     },
     "execution_count": 10,
     "metadata": {},
     "output_type": "execute_result"
    },
    {
     "data": {
      "text/plain": [
       "USE"
      ]
     },
     "execution_count": 10,
     "metadata": {},
     "output_type": "execute_result"
    },
    {
     "name": "stdout",
     "output_type": "stream",
     "text": [
      "SB-INT:SIMPLE-STYLE-WARNING: The function ACHIEVE-ALL is called with three arguments, but wants exactly one.\n",
      "SB-KERNEL:REDEFINITION-WITH-DEFUN: redefining COMMON-LISP-USER::GPS in DEFUN\n",
      "SB-INT:SIMPLE-STYLE-WARNING: The function APPLY-OP is called with four arguments, but wants exactly one.\n",
      "SB-INT:SIMPLE-STYLE-WARNING: undefined function: COMMON-LISP-USER::MEMBER-EQUAL\n",
      "SB-KERNEL:REDEFINITION-WITH-DEFUN: redefining COMMON-LISP-USER::ACHIEVE in DEFUN\n",
      "SB-KERNEL:REDEFINITION-WITH-DEFUN: redefining COMMON-LISP-USER::ACHIEVE-ALL in DEFUN\n",
      "SB-KERNEL:REDEFINITION-WITH-DEFUN: redefining COMMON-LISP-USER::APPLY-OP in DEFUN\n",
      "SB-KERNEL:REDEFINITION-WITH-DEFUN: redefining COMMON-LISP-USER::APPROPRIATE-P in DEFUN\n"
     ]
    }
   ],
   "source": [
    ";; Major updates:\n",
    ";; - State changed from unordered set to ordered list, including '(start) and '(executing <action>)\n",
    ";; - Leverage function stack to track states, local value, function return signature\n",
    "\n",
    "(defun GPS (state goals &optional (*ops* *ops*))  ;; dynamic scopping binding, extent the life for *ops* while GPS is executing\n",
    "  \"General Problem Solver: from state, achieve goals using *ops*.\"\n",
    "  (remove-if #'atom (achieve-all (cons '(start) state) goals nil)))\n",
    "\n",
    "(defun achieve (state goal goal-stack)\n",
    "  \"A goal is achieved if it already holds,\n",
    "  or if there is an appropriate op for it that is applicable.\"\n",
    "  (dbg-indent :gps (length goal-stack) \"Goal: ~a\" goal)\n",
    "  (cond ((member-equal goal state) state)\n",
    "      ((member-equal goal goal-stack) nil)  ;; fail and detect recursive goal\n",
    "      (t (some #'(lambda (op) (apply-op state goal op goal-stack))\n",
    "          (find-all goal *ops* :test #'appropriate-p)))))\n",
    "\n",
    "(defun achieve-all (state goals goal-stack)\n",
    "  \"Achieve each goal, and make sure they still hold at the end.\"\n",
    "  (let ((current-state state))\n",
    "    (if (and (every #'(lambda (g)\n",
    "            (setf current-state\n",
    "              (achieve current-state g goal-stack)))\n",
    "          goals)\n",
    "        (subsetp goals current-state :test #'equal))\n",
    "      current-state)))\n",
    "\n",
    "  ;; #'equal checks the value, because now a condition could be non-atom\n",
    "  (defun member-equal (item list)\n",
    "    (member item list :test #'equal))  \n",
    "\n",
    "(defun apply-op (state goal op goal-stack)\n",
    "  \"Return a new, transformed state if op is applicable.\"\n",
    "  (dbg-indent :gps (length goal-stack) \"Consider: ~a\" (op-action op))\n",
    "  (let ((state2 (achieve-all state (op-preconds op)\n",
    "            (cons goal goal-stack))))\n",
    "    (unless (null state2)\n",
    "      ;; Return an updated state\n",
    "      (dbg-indent :gps (length goal-stack) \"Action: ~a\" (op-action op))\n",
    "      (append (remove-if #'(lambda (x)\n",
    "            (member-equal x (op-del-list op)))\n",
    "          state2)\n",
    "        (op-add-list op)))))\n",
    "\n",
    "(defun appropriate-p (goal op)\n",
    "  \"An op is appropriate to a goal if it is in its add-list.\"\n",
    "  (member-equal goal (op-add-list op)))\n",
    "\n",
    "(defun use (oplist)\n",
    "  \"Use oplist as the default list of operators.\"\n",
    "  ;; Return something useful, but not too verbose:\n",
    "  ;; the number of operators.\n",
    "   (length (setf *ops* oplist)))"
   ]
  },
  {
   "cell_type": "code",
   "execution_count": 11,
   "metadata": {
    "vscode": {
     "languageId": "commonlisp"
    }
   },
   "outputs": [
    {
     "data": {
      "text/plain": [
       "7"
      ]
     },
     "execution_count": 11,
     "metadata": {},
     "output_type": "execute_result"
    },
    {
     "data": {
      "text/plain": [
       "((START) (EXECUTING LOOK-UP-NUMBER) (EXECUTING TELEPHONE-SHOP)\n",
       " (EXECUTING TELL-SHOP-PROBLEM) (EXECUTING GIVE-SHOP-MONEY)\n",
       " (EXECUTING SHOP-INSTALLS-BATTERY) (EXECUTING DRIVE-SON-TO-SCHOOL))"
      ]
     },
     "execution_count": 11,
     "metadata": {},
     "output_type": "execute_result"
    }
   ],
   "source": [
    "(use *school-ops*)\n",
    "\n",
    "(gps '(son-at-home car-needs-battery have-money have-phone-book)\n",
    "      '(son-at-school))"
   ]
  },
  {
   "cell_type": "code",
   "execution_count": 12,
   "metadata": {
    "vscode": {
     "languageId": "commonlisp"
    }
   },
   "outputs": [
    {
     "data": {
      "text/plain": [
       "(:GPS)"
      ]
     },
     "execution_count": 12,
     "metadata": {},
     "output_type": "execute_result"
    },
    {
     "data": {
      "text/plain": [
       "((START) (EXECUTING LOOK-UP-NUMBER) (EXECUTING TELEPHONE-SHOP)\n",
       " (EXECUTING TELL-SHOP-PROBLEM) (EXECUTING GIVE-SHOP-MONEY)\n",
       " (EXECUTING SHOP-INSTALLS-BATTERY) (EXECUTING DRIVE-SON-TO-SCHOOL))"
      ]
     },
     "execution_count": 12,
     "metadata": {},
     "output_type": "execute_result"
    },
    {
     "data": {
      "text/plain": [
       "NIL"
      ]
     },
     "execution_count": 12,
     "metadata": {},
     "output_type": "execute_result"
    },
    {
     "name": "stdout",
     "output_type": "stream",
     "text": [
      "Goal: (SON-AT-SCHOOL)\n",
      "Consider: (DRIVE-SON-TO-SCHOOL)\n",
      " Goal: (SON-AT-HOME)\n",
      " Goal: (CAR-WORKS)\n",
      " Consider: (SHOP-INSTALLS-BATTERY)\n",
      "  Goal: (CAR-NEEDS-BATTERY)\n",
      "  Goal: (SHOP-KNOWS-PROBLEM)\n",
      "  Consider: (TELL-SHOP-PROBLEM)\n",
      "   Goal: (IN-COMMUNICATION-WITH-SHOP)\n",
      "   Consider: (TELEPHONE-SHOP)\n",
      "    Goal: (KNOW-PHONE-NUMBER)\n",
      "    Consider: (ASK-PHONE-NUMBER)\n",
      "     Goal: (IN-COMMUNICATION-WITH-SHOP)\n",
      "    Consider: (LOOK-UP-NUMBER)\n",
      "     Goal: (HAVE-PHONE-BOOK)\n",
      "    Action: (LOOK-UP-NUMBER)\n",
      "   Action: (TELEPHONE-SHOP)\n",
      "  Action: (TELL-SHOP-PROBLEM)\n",
      "  Goal: (SHOP-HAS-MONEY)\n",
      "  Consider: (GIVE-SHOP-MONEY)\n",
      "   Goal: (HAVE-MONEY)\n",
      "  Action: (GIVE-SHOP-MONEY)\n",
      " Action: (SHOP-INSTALLS-BATTERY)\n",
      "Action: (DRIVE-SON-TO-SCHOOL)"
     ]
    }
   ],
   "source": [
    "(debug1 :gps)\n",
    "(gps '(son-at-home car-needs-battery have-money have-phone-book)\n",
    "      '(son-at-school))\n",
    "(undebug1)"
   ]
  },
  {
   "cell_type": "code",
   "execution_count": 13,
   "metadata": {
    "vscode": {
     "languageId": "commonlisp"
    }
   },
   "outputs": [
    {
     "data": {
      "text/plain": [
       "NIL"
      ]
     },
     "execution_count": 13,
     "metadata": {},
     "output_type": "execute_result"
    },
    {
     "data": {
      "text/plain": [
       "NIL"
      ]
     },
     "execution_count": 13,
     "metadata": {},
     "output_type": "execute_result"
    },
    {
     "data": {
      "text/plain": [
       "NIL"
      ]
     },
     "execution_count": 13,
     "metadata": {},
     "output_type": "execute_result"
    }
   ],
   "source": [
    ";; It avoids problems in version 1\n",
    "\n",
    ";; Achieve both goals via `achieve-all` and comparison in the end \n",
    "(gps '(son-at-home car-needs-battery have-money have-phone-book)\n",
    "      '(have-money son-at-school))\n",
    "\n",
    ";; Leap before look problem is solved; still thinking ahead, but doesn't return the execution\n",
    "(gps '(son-at-home car-needs-battery have-money have-phone-book)\n",
    "      '(son-at-school have-money))\n",
    "\n",
    ";; infinite recursion, exit as soon as loop being detected\n",
    "(gps '(son-at-home car-needs-battery have-money)\n",
    "      '(son-at-school) )"
   ]
  },
  {
   "cell_type": "code",
   "execution_count": 14,
   "metadata": {
    "vscode": {
     "languageId": "commonlisp"
    }
   },
   "outputs": [
    {
     "data": {
      "text/plain": [
       "((START))"
      ]
     },
     "execution_count": 14,
     "metadata": {},
     "output_type": "execute_result"
    }
   ],
   "source": [
    ";; simple test case is still valid\n",
    "(gps '(son-at-home) '(son-at-home))"
   ]
  },
  {
   "cell_type": "code",
   "execution_count": 15,
   "metadata": {
    "vscode": {
     "languageId": "commonlisp"
    }
   },
   "outputs": [
    {
     "data": {
      "text/plain": [
       "*BANANA-OPS*"
      ]
     },
     "execution_count": 15,
     "metadata": {},
     "output_type": "execute_result"
    },
    {
     "data": {
      "text/plain": [
       "6"
      ]
     },
     "execution_count": 15,
     "metadata": {},
     "output_type": "execute_result"
    },
    {
     "data": {
      "text/plain": [
       "((START) (EXECUTING PUSH-CHAIR-FROM-DOOR-TO-MIDDLE-ROOM)\n",
       " (EXECUTING CLIMB-ON-CHAIR) (EXECUTING DROP-BALL) (EXECUTING GRASP-BANANAS)\n",
       " (EXECUTING EAT-BANANAS))"
      ]
     },
     "execution_count": 15,
     "metadata": {},
     "output_type": "execute_result"
    }
   ],
   "source": [
    ";; Apply to new problem\n",
    "\n",
    ";; State summary: \n",
    ";; - at-<location|object>\n",
    ";; - chair-at-<location>\n",
    "(defparameter *banana-ops*\n",
    "  (list\n",
    "    (op\n",
    "      'climb-on-chair\n",
    "      :preconds '(chair-at-middle-room at-middle-room on-floor)\n",
    "      :add-list '(at-bananas on-chair)\n",
    "      :del-list '(at-middle-room on-floor))\n",
    "    (op\n",
    "      'push-chair-from-door-to-middle-room\n",
    "      :preconds '(chair-at-door at-door)\n",
    "      :add-list '(chair-at-middle-room at-middle-room)\n",
    "      :del-list '(chair-at-door at-door))\n",
    "    (op\n",
    "      'walk-from-door-to-middle-room\n",
    "      :preconds '(at-door on-floor)\n",
    "      :add-list '(at-middle-room)\n",
    "      :del-list '(at-door))\n",
    "    (op\n",
    "      'grasp-bananas\n",
    "      :preconds '(at-bananas empty-handed)\n",
    "      :add-list '(has-bananas)\n",
    "      :del-list '(empty-handed))\n",
    "    (op\n",
    "      'drop-ball\n",
    "      :preconds '(has-ball)\n",
    "      :add-list '(empty-handed)\n",
    "      :del-list '(has-ball))\n",
    "    (op\n",
    "      'eat-bananas\n",
    "      :preconds '(has-bananas)\n",
    "      :add-list '(empty-handed not-hungry)\n",
    "      :del-list '(has-bananas hungry))))\n",
    "\n",
    "(use *banana-ops*)\n",
    "; (debug1 :gps)\n",
    "(gps '(chair-at-door at-door has-ball hungry on-floor) '(not-hungry))"
   ]
  },
  {
   "cell_type": "code",
   "execution_count": 17,
   "metadata": {
    "vscode": {
     "languageId": "commonlisp"
    }
   },
   "outputs": [
    {
     "data": {
      "text/plain": [
       "GPS"
      ]
     },
     "execution_count": 17,
     "metadata": {},
     "output_type": "execute_result"
    },
    {
     "data": {
      "text/plain": [
       "ACTION-P"
      ]
     },
     "execution_count": 17,
     "metadata": {},
     "output_type": "execute_result"
    },
    {
     "data": {
      "text/plain": [
       "MAKE-MAZE-OPS"
      ]
     },
     "execution_count": 17,
     "metadata": {},
     "output_type": "execute_result"
    },
    {
     "data": {
      "text/plain": [
       "MAKE-MAZE-OP"
      ]
     },
     "execution_count": 17,
     "metadata": {},
     "output_type": "execute_result"
    },
    {
     "data": {
      "text/plain": [
       "*MAZE-OPS*"
      ]
     },
     "execution_count": 17,
     "metadata": {},
     "output_type": "execute_result"
    },
    {
     "data": {
      "text/plain": [
       "48"
      ]
     },
     "execution_count": 17,
     "metadata": {},
     "output_type": "execute_result"
    },
    {
     "data": {
      "text/plain": [
       "((START) (EXECUTING (MOVE FROM 1 TO 2)) (EXECUTING (MOVE FROM 2 TO 3))\n",
       " (EXECUTING (MOVE FROM 3 TO 4)) (EXECUTING (MOVE FROM 4 TO 9))\n",
       " (EXECUTING (MOVE FROM 9 TO 8)) (EXECUTING (MOVE FROM 8 TO 7))\n",
       " (EXECUTING (MOVE FROM 7 TO 12)) (EXECUTING (MOVE FROM 12 TO 11))\n",
       " (EXECUTING (MOVE FROM 11 TO 16)) (EXECUTING (MOVE FROM 16 TO 17))\n",
       " (EXECUTING (MOVE FROM 17 TO 22)) (EXECUTING (MOVE FROM 22 TO 23))\n",
       " (EXECUTING (MOVE FROM 23 TO 24)) (EXECUTING (MOVE FROM 24 TO 19))\n",
       " (EXECUTING (MOVE FROM 19 TO 20)) (EXECUTING (MOVE FROM 20 TO 25)))"
      ]
     },
     "execution_count": 17,
     "metadata": {},
     "output_type": "execute_result"
    },
    {
     "name": "stdout",
     "output_type": "stream",
     "text": [
      "SB-KERNEL:REDEFINITION-WITH-DEFUN: redefining COMMON-LISP-USER::GPS in DEFUN\n",
      "SB-KERNEL:REDEFINITION-WITH-DEFUN: redefining COMMON-LISP-USER::ACTION-P in DEFUN\n",
      "SB-KERNEL:REDEFINITION-WITH-DEFUN: redefining COMMON-LISP-USER::MAKE-MAZE-OPS in DEFUN\n",
      "SB-KERNEL:REDEFINITION-WITH-DEFUN: redefining COMMON-LISP-USER::MAKE-MAZE-OP in DEFUN\n"
     ]
    }
   ],
   "source": [
    ";; Try again with maze search!\n",
    "\n",
    ";; Be specific about our definition of actions\n",
    "(defun GPS (state goals &optional (*ops* *ops*))\n",
    "  \"General Problem Solver: from state, achieve goals using *ops*.\"\n",
    "  (find-all-if #'action-p\n",
    "        (achieve-all (cons '(start) state) goals nil)))\n",
    "\n",
    "(defun action-p (x)\n",
    "  \"Is x something that is (start) or (executing ...)?\"\n",
    "  (or (equal x '(start)) (executing-p x)))\n",
    "\n",
    "(defun make-maze-ops (pair)\n",
    "    \"make maze ops in both direction.\"\n",
    "    (list (make-maze-op (first pair) (second pair))\n",
    "          (make-maze-op (second pair) (first pair))))\n",
    "\n",
    "(defun make-maze-op (here there)\n",
    "    (op\n",
    "        `(move from ,here to ,there)   ;; use of comma unquote inside back quote\n",
    "        :preconds `((at ,here))\n",
    "        :add-list `((at ,there))\n",
    "        :del-list `((at ,here))))\n",
    "\n",
    "(defparameter *maze-ops*\n",
    "  (mappend #'make-maze-ops\n",
    "    '((1 2) (2 3) (3 4) (4 9) (9 14) (9 8) (8 7) (7 12) (12 13)\n",
    "      (12 11) (11 6) (11 16) (16 17) (17 22) (21 22) (22 23)\n",
    "      (23 18) (23 24) (24 19) (19 20) (20 15) (15 10) (10 5) (20 25))))\n",
    "\n",
    "(use *maze-ops*)\n",
    "; (debug1 :gps)\n",
    "(gps '((at 1)) '((at 25)))"
   ]
  },
  {
   "cell_type": "code",
   "execution_count": 24,
   "metadata": {
    "vscode": {
     "languageId": "commonlisp"
    }
   },
   "outputs": [
    {
     "data": {
      "text/plain": [
       "FIND-PATH"
      ]
     },
     "execution_count": 24,
     "metadata": {},
     "output_type": "execute_result"
    },
    {
     "data": {
      "text/plain": [
       "DESTINATION"
      ]
     },
     "execution_count": 24,
     "metadata": {},
     "output_type": "execute_result"
    },
    {
     "data": {
      "text/plain": [
       "(1 2 3 4 9 8 7 12 11 16 17 22 23 24 19 20 25)"
      ]
     },
     "execution_count": 24,
     "metadata": {},
     "output_type": "execute_result"
    },
    {
     "name": "stdout",
     "output_type": "stream",
     "text": [
      "SB-INT:SIMPLE-STYLE-WARNING: The variable END is defined but never used.\n",
      "SB-KERNEL:REDEFINITION-WITH-DEFUN: redefining COMMON-LISP-USER::FIND-PATH in DEFUN\n",
      "SB-KERNEL:REDEFINITION-WITH-DEFUN: redefining COMMON-LISP-USER::DESTINATION in DEFUN\n"
     ]
    }
   ],
   "source": [
    ";; The returned result could be extracted out\n",
    "(defun find-path (start end)\n",
    "    (let ((results (gps '((at 1)) '((at 25)))))\n",
    "        (unless (null results)\n",
    "            (cons start (mapcar #'destination (remove '(start) results :test #'equal))))))\n",
    "\n",
    "(defun destination (action)\n",
    "    (fifth (second action)))\n",
    "\n",
    "(find-path 1 25)"
   ]
  },
  {
   "cell_type": "code",
   "execution_count": 29,
   "metadata": {
    "vscode": {
     "languageId": "commonlisp"
    }
   },
   "outputs": [
    {
     "data": {
      "text/plain": [
       "MOVE-ONS"
      ]
     },
     "execution_count": 29,
     "metadata": {},
     "output_type": "execute_result"
    },
    {
     "data": {
      "text/plain": [
       "MOVE-OP"
      ]
     },
     "execution_count": 29,
     "metadata": {},
     "output_type": "execute_result"
    },
    {
     "data": {
      "text/plain": [
       "MAKE-BLOCK-OPS"
      ]
     },
     "execution_count": 29,
     "metadata": {},
     "output_type": "execute_result"
    },
    {
     "name": "stdout",
     "output_type": "stream",
     "text": [
      "SB-KERNEL:REDEFINITION-WITH-DEFUN: redefining COMMON-LISP-USER::MOVE-ONS in DEFUN\n",
      "SB-KERNEL:REDEFINITION-WITH-DEFUN: redefining COMMON-LISP-USER::MOVE-OP in DEFUN\n",
      "SB-KERNEL:REDEFINITION-WITH-DEFUN: redefining COMMON-LISP-USER::MAKE-BLOCK-OPS in DEFUN\n"
     ]
    }
   ],
   "source": [
    ";; Apply to block world domain\n",
    "\n",
    ";; Summary of possible state\n",
    ";; - block_i on block_j\n",
    ";; - block_i's top is empty\n",
    ";; special block 'table\n",
    "\n",
    "(defun move-ons (a b c)\n",
    "    \"Returns state after moves a from b to c\"\n",
    "    (if (eq b 'table)\n",
    "        `((,a on ,c))\n",
    "        `((,a on ,c) (space on ,b))))\n",
    "\n",
    "(defun move-op (a b c)\n",
    "    \"The action to move a from b to c\"\n",
    "    (op\n",
    "        `(move ,a from ,b to ,c)\n",
    "        :preconds `((space on ,c) (,a on ,b) (space on ,a))\n",
    "        :add-list (move-ons a b c)\n",
    "        :del-list (move-ons a c b)))\n",
    "\n",
    "(defun make-block-ops (blocks)\n",
    "    (let ((ops nil))\n",
    "        (dolist (a blocks)\n",
    "            (dolist (b blocks)\n",
    "                (unless (equal a b)\n",
    "                    (dolist (c blocks)\n",
    "                        (unless (or (equal c b) (equal c a))\n",
    "                            (push (move-op a b c) ops)))   ;; move between any three blocks\n",
    "                    (push (move-op a 'table b) ops)   ;; move between table and another block\n",
    "                    (push (move-op a b 'table) ops))))\n",
    "        ops))"
   ]
  },
  {
   "cell_type": "code",
   "execution_count": 31,
   "metadata": {
    "vscode": {
     "languageId": "commonlisp"
    }
   },
   "outputs": [
    {
     "data": {
      "text/plain": [
       "4"
      ]
     },
     "execution_count": 31,
     "metadata": {},
     "output_type": "execute_result"
    },
    {
     "data": {
      "text/plain": [
       "((START) (EXECUTING (MOVE A FROM TABLE TO B)))"
      ]
     },
     "execution_count": 31,
     "metadata": {},
     "output_type": "execute_result"
    }
   ],
   "source": [
    "(use (make-block-ops '(a b)))\n",
    "(gps '((a on table) (b on table) (space on a) (space on b) (space on table))\n",
    "    '((a on b) (b on table)))"
   ]
  },
  {
   "cell_type": "code",
   "execution_count": 51,
   "metadata": {
    "vscode": {
     "languageId": "commonlisp"
    }
   },
   "outputs": [
    {
     "data": {
      "text/plain": [
       "((START) (EXECUTING (MOVE A FROM B TO TABLE))\n",
       " (EXECUTING (MOVE B FROM TABLE TO A)))"
      ]
     },
     "execution_count": 51,
     "metadata": {},
     "output_type": "execute_result"
    }
   ],
   "source": [
    ";; invert the block\n",
    "; (debug1 :gps)\n",
    "(gps '((a on b) (b on table) (space on a) (space on table))\n",
    "    '((b on a)))"
   ]
  },
  {
   "cell_type": "code",
   "execution_count": 52,
   "metadata": {
    "vscode": {
     "languageId": "commonlisp"
    }
   },
   "outputs": [
    {
     "data": {
      "text/plain": [
       "18"
      ]
     },
     "execution_count": 52,
     "metadata": {},
     "output_type": "execute_result"
    },
    {
     "data": {
      "text/plain": [
       "((START) (EXECUTING (MOVE A FROM B TO TABLE)) (EXECUTING (MOVE B FROM C TO A))\n",
       " (EXECUTING (MOVE C FROM TABLE TO B)))"
      ]
     },
     "execution_count": 52,
     "metadata": {},
     "output_type": "execute_result"
    },
    {
     "data": {
      "text/plain": [
       "((START) (EXECUTING (MOVE A FROM B TO TABLE)) (EXECUTING (MOVE B FROM C TO A))\n",
       " (EXECUTING (MOVE C FROM TABLE TO B)))"
      ]
     },
     "execution_count": 52,
     "metadata": {},
     "output_type": "execute_result"
    }
   ],
   "source": [
    ";; invert three blocks\n",
    "(use (make-block-ops '(a b c)))\n",
    "(gps '((a on b) (b on c) (c on table) (space on a) (space on table))\n",
    "    '((b on a) (c on b)))\n",
    "\n",
    ";; oops, prerequisite clobbers sibling goal\" situation again, but not recovered\n",
    "(gps '((a on b) (b on c) (c on table) (space on a) (space on table))\n",
    "      '((c on b) (b on a)))"
   ]
  },
  {
   "cell_type": "code",
   "execution_count": 54,
   "metadata": {
    "vscode": {
     "languageId": "commonlisp"
    }
   },
   "outputs": [
    {
     "data": {
      "text/plain": [
       "ACHIEVE-ALL"
      ]
     },
     "execution_count": 54,
     "metadata": {},
     "output_type": "execute_result"
    },
    {
     "data": {
      "text/plain": [
       "ORDERINGS-SIMPLE"
      ]
     },
     "execution_count": 54,
     "metadata": {},
     "output_type": "execute_result"
    },
    {
     "data": {
      "text/plain": [
       "ACHIEVE-EACH"
      ]
     },
     "execution_count": 54,
     "metadata": {},
     "output_type": "execute_result"
    },
    {
     "data": {
      "text/plain": [
       "((START) (EXECUTING (MOVE A FROM B TO TABLE)) (EXECUTING (MOVE B FROM C TO A))\n",
       " (EXECUTING (MOVE C FROM TABLE TO B)))"
      ]
     },
     "execution_count": 54,
     "metadata": {},
     "output_type": "execute_result"
    },
    {
     "name": "stdout",
     "output_type": "stream",
     "text": [
      "SB-KERNEL:REDEFINITION-WITH-DEFUN: redefining COMMON-LISP-USER::ACHIEVE-ALL in DEFUN\n",
      "SB-KERNEL:REDEFINITION-WITH-DEFUN: redefining COMMON-LISP-USER::ORDERINGS-SIMPLE in DEFUN\n",
      "SB-KERNEL:REDEFINITION-WITH-DEFUN: redefining COMMON-LISP-USER::ACHIEVE-EACH in DEFUN\n"
     ]
    }
   ],
   "source": [
    "(defun achieve-all (state goals goal-stack)\n",
    "    \"Achieve all goals in some orderings\"\n",
    "    (some #'(lambda (goals) (achieve-each state goals goal-stack))\n",
    "        (orderings-simple goals)))\n",
    "\n",
    "(defun orderings-simple (l)\n",
    "    \"Consider two possible orderings of list\"\n",
    "    (if (> (length l) 1)\n",
    "        (list l (reverse l))\n",
    "        (list l)))\n",
    "\n",
    "(defun achieve-each (state goals goal-stack)\n",
    "  \"Achieve each goal, and make sure they still hold at the end.\"\n",
    "  (let ((current-state state))\n",
    "    (if (and (every #'(lambda (g)\n",
    "            (setf current-state\n",
    "              (achieve current-state g goal-stack)))\n",
    "          goals)\n",
    "        (subsetp goals current-state :test #'equal))\n",
    "      current-state)))\n",
    "\n",
    "(gps '((a on b) (b on c) (c on table) (space on a) (space on table))\n",
    "      '((c on b) (b on a)))"
   ]
  },
  {
   "cell_type": "code",
   "execution_count": 59,
   "metadata": {
    "vscode": {
     "languageId": "commonlisp"
    }
   },
   "outputs": [
    {
     "data": {
      "text/plain": [
       "((START) (EXECUTING (MOVE C FROM A TO TABLE))\n",
       " (EXECUTING (MOVE A FROM TABLE TO B)))"
      ]
     },
     "execution_count": 59,
     "metadata": {},
     "output_type": "execute_result"
    },
    {
     "data": {
      "text/plain": [
       "ACHIEVE"
      ]
     },
     "execution_count": 59,
     "metadata": {},
     "output_type": "execute_result"
    },
    {
     "data": {
      "text/plain": [
       "APPROPRIATE-OPS"
      ]
     },
     "execution_count": 59,
     "metadata": {},
     "output_type": "execute_result"
    },
    {
     "data": {
      "text/plain": [
       "((START) (EXECUTING (MOVE A FROM B TO TABLE)) (EXECUTING (MOVE B FROM C TO A))\n",
       " (EXECUTING (MOVE C FROM TABLE TO B)))"
      ]
     },
     "execution_count": 59,
     "metadata": {},
     "output_type": "execute_result"
    },
    {
     "name": "stdout",
     "output_type": "stream",
     "text": [
      "SB-KERNEL:REDEFINITION-WITH-DEFUN: redefining COMMON-LISP-USER::ACHIEVE in DEFUN\n",
      "SB-KERNEL:REDEFINITION-WITH-DEFUN: redefining COMMON-LISP-USER::APPROPRIATE-OPS in DEFUN\n"
     ]
    }
   ],
   "source": [
    ";; Find efficient solutions\n",
    "(gps '((c on a) (a on table) (b on table)\n",
    "      (space on c) (space on b) (space on table))\n",
    "    '((c on table) (a on b)))\n",
    "\n",
    ";; Change order of operation tried\n",
    "(defun achieve (state goal goal-stack)\n",
    "  \"A goal is achieved if it already holds,\n",
    "  or if there is an appropriate op for it that is applicable.\"\n",
    "  (dbg-indent :gps (length goal-stack) \"Goal:~a\" goal)\n",
    "  (cond ((member-equal goal state) state)\n",
    "      ((member-equal goal goal-stack) nil)\n",
    "      (t (some #'(lambda (op) (apply-op state goal op goal-stack))\n",
    "          (appropriate-ops goal state))))) ;***\n",
    "\n",
    "(defun appropriate-ops (goal state)\n",
    "  \"Return a list of appropriate operators,\n",
    "  sorted by the number of unfulfilled preconditions.\"\n",
    "  (sort (copy-list (find-all goal *ops* :test #'appropriate-p)) #'<\n",
    "      :key #'(lambda (op)\n",
    "          (count-if #'(lambda (precond) (not (member-equal precond state)))\n",
    "            (op-preconds op)))))\n",
    "\n",
    "(gps '((a on b) (b on c) (c on table) (space on a) (space on table))\n",
    "      '((c on b) (b on a)))"
   ]
  },
  {
   "cell_type": "code",
   "execution_count": 93,
   "metadata": {
    "vscode": {
     "languageId": "commonlisp"
    }
   },
   "outputs": [
    {
     "data": {
      "text/plain": [
       "PERM"
      ]
     },
     "execution_count": 93,
     "metadata": {},
     "output_type": "execute_result"
    },
    {
     "data": {
      "text/plain": [
       "((1 2 3 4 5) (1 2 3 5 4) (1 2 4 3 5) (1 2 4 5 3) (1 2 5 3 4) (1 2 5 4 3)\n",
       " (1 3 2 4 5) (1 3 2 5 4) (1 3 4 2 5) (1 3 4 5 2) (1 3 5 2 4) (1 3 5 4 2)\n",
       " (1 4 2 3 5) (1 4 2 5 3) (1 4 3 2 5) (1 4 3 5 2) (1 4 5 2 3) (1 4 5 3 2)\n",
       " (1 5 2 3 4) (1 5 2 4 3) (1 5 3 2 4) (1 5 3 4 2) (1 5 4 2 3) (1 5 4 3 2)\n",
       " (2 1 3 4 5) (2 1 3 5 4) (2 1 4 3 5) (2 1 4 5 3) (2 1 5 3 4) (2 1 5 4 3)\n",
       " (2 3 1 4 5) (2 3 1 5 4) (2 3 4 1 5) (2 3 4 5 1) (2 3 5 1 4) (2 3 5 4 1)\n",
       " (2 4 1 3 5) (2 4 1 5 3) (2 4 3 1 5) (2 4 3 5 1) (2 4 5 1 3) (2 4 5 3 1)\n",
       " (2 5 1 3 4) (2 5 1 4 3) (2 5 3 1 4) (2 5 3 4 1) (2 5 4 1 3) (2 5 4 3 1)\n",
       " (3 1 2 4 5) (3 1 2 5 4) (3 1 4 2 5) (3 1 4 5 2) (3 1 5 2 4) (3 1 5 4 2)\n",
       " (3 2 1 4 5) (3 2 1 5 4) (3 2 4 1 5) (3 2 4 5 1) (3 2 5 1 4) (3 2 5 4 1)\n",
       " (3 4 1 2 5) (3 4 1 5 2) (3 4 2 1 5) (3 4 2 5 1) (3 4 5 1 2) (3 4 5 2 1)\n",
       " (3 5 1 2 4) (3 5 1 4 2) (3 5 2 1 4) (3 5 2 4 1) (3 5 4 1 2) (3 5 4 2 1)\n",
       " (4 1 2 3 5) (4 1 2 5 3) (4 1 3 2 5) (4 1 3 5 2) (4 1 5 2 3) (4 1 5 3 2)\n",
       " (4 2 1 3 5) (4 2 1 5 3) (4 2 3 1 5) (4 2 3 5 1) (4 2 5 1 3) (4 2 5 3 1)\n",
       " (4 3 1 2 5) (4 3 1 5 2) (4 3 2 1 5) (4 3 2 5 1) (4 3 5 1 2) (4 3 5 2 1)\n",
       " (4 5 1 2 3) (4 5 1 3 2) (4 5 2 1 3) (4 5 2 3 1) (4 5 3 1 2) (4 5 3 2 1)\n",
       " (5 1 2 3 4) (5 1 2 4 3) (5 1 3 2 4) (5 1 3 4 2) (5 1 4 2 3) (5 1 4 3 2)\n",
       " (5 2 1 3 4) (5 2 1 4 3) (5 2 3 1 4) (5 2 3 4 1) (5 2 4 1 3) (5 2 4 3 1)\n",
       " (5 3 1 2 4) (5 3 1 4 2) (5 3 2 1 4) (5 3 2 4 1) (5 3 4 1 2) (5 3 4 2 1)\n",
       " (5 4 1 2 3) (5 4 1 3 2) (5 4 2 1 3) (5 4 2 3 1) (5 4 3 1 2) (5 4 3 2 1))"
      ]
     },
     "execution_count": 93,
     "metadata": {},
     "output_type": "execute_result"
    },
    {
     "name": "stdout",
     "output_type": "stream",
     "text": [
      "SB-KERNEL:REDEFINITION-WITH-DEFUN: redefining COMMON-LISP-USER::PERM in DEFUN\n"
     ]
    }
   ],
   "source": [
    ";; exercise 4.2 permutation generator\n",
    "(defun perm (l)\n",
    "    (cond ((null l) '(()))\n",
    "        (t (let ((results '()))\n",
    "            (dotimes (i (length l))\n",
    "                ;; Take nth element out from the list, then concatenate on the permutation of the rest\n",
    "                (setf results (append results\n",
    "                    (mapcar #'(lambda (rl) (cons (nth i l) rl))\n",
    "                        (perm (append (subseq l 0 i) (subseq l (+ 1 i) (length l)))))))) \n",
    "            results))))\n",
    "\n",
    "(perm '(1 2 3 4 5))\n",
    "\n",
    "\n",
    "\n"
   ]
  },
  {
   "cell_type": "code",
   "execution_count": 97,
   "metadata": {
    "vscode": {
     "languageId": "commonlisp"
    }
   },
   "outputs": [
    {
     "data": {
      "text/plain": [
       "PERMUTATIONS"
      ]
     },
     "execution_count": 97,
     "metadata": {},
     "output_type": "execute_result"
    },
    {
     "data": {
      "text/plain": [
       "((1 2 3 4 5) (1 2 3 5 4) (1 2 4 3 5) (1 2 4 5 3) (1 2 5 3 4) (1 2 5 4 3)\n",
       " (1 3 2 4 5) (1 3 2 5 4) (1 3 4 2 5) (1 3 4 5 2) (1 3 5 2 4) (1 3 5 4 2)\n",
       " (1 4 2 3 5) (1 4 2 5 3) (1 4 3 2 5) (1 4 3 5 2) (1 4 5 2 3) (1 4 5 3 2)\n",
       " (1 5 2 3 4) (1 5 2 4 3) (1 5 3 2 4) (1 5 3 4 2) (1 5 4 2 3) (1 5 4 3 2)\n",
       " (2 1 3 4 5) (2 1 3 5 4) (2 1 4 3 5) (2 1 4 5 3) (2 1 5 3 4) (2 1 5 4 3)\n",
       " (2 3 1 4 5) (2 3 1 5 4) (2 3 4 1 5) (2 3 4 5 1) (2 3 5 1 4) (2 3 5 4 1)\n",
       " (2 4 1 3 5) (2 4 1 5 3) (2 4 3 1 5) (2 4 3 5 1) (2 4 5 1 3) (2 4 5 3 1)\n",
       " (2 5 1 3 4) (2 5 1 4 3) (2 5 3 1 4) (2 5 3 4 1) (2 5 4 1 3) (2 5 4 3 1)\n",
       " (3 1 2 4 5) (3 1 2 5 4) (3 1 4 2 5) (3 1 4 5 2) (3 1 5 2 4) (3 1 5 4 2)\n",
       " (3 2 1 4 5) (3 2 1 5 4) (3 2 4 1 5) (3 2 4 5 1) (3 2 5 1 4) (3 2 5 4 1)\n",
       " (3 4 1 2 5) (3 4 1 5 2) (3 4 2 1 5) (3 4 2 5 1) (3 4 5 1 2) (3 4 5 2 1)\n",
       " (3 5 1 2 4) (3 5 1 4 2) (3 5 2 1 4) (3 5 2 4 1) (3 5 4 1 2) (3 5 4 2 1)\n",
       " (4 1 2 3 5) (4 1 2 5 3) (4 1 3 2 5) (4 1 3 5 2) (4 1 5 2 3) (4 1 5 3 2)\n",
       " (4 2 1 3 5) (4 2 1 5 3) (4 2 3 1 5) (4 2 3 5 1) (4 2 5 1 3) (4 2 5 3 1)\n",
       " (4 3 1 2 5) (4 3 1 5 2) (4 3 2 1 5) (4 3 2 5 1) (4 3 5 1 2) (4 3 5 2 1)\n",
       " (4 5 1 2 3) (4 5 1 3 2) (4 5 2 1 3) (4 5 2 3 1) (4 5 3 1 2) (4 5 3 2 1)\n",
       " (5 1 2 3 4) (5 1 2 4 3) (5 1 3 2 4) (5 1 3 4 2) (5 1 4 2 3) (5 1 4 3 2)\n",
       " (5 2 1 3 4) (5 2 1 4 3) (5 2 3 1 4) (5 2 3 4 1) (5 2 4 1 3) (5 2 4 3 1)\n",
       " (5 3 1 2 4) (5 3 1 4 2) (5 3 2 1 4) (5 3 2 4 1) (5 3 4 1 2) (5 3 4 2 1)\n",
       " (5 4 1 2 3) (5 4 1 3 2) (5 4 2 1 3) (5 4 2 3 1) (5 4 3 1 2) (5 4 3 2 1))"
      ]
     },
     "execution_count": 97,
     "metadata": {},
     "output_type": "execute_result"
    },
    {
     "name": "stdout",
     "output_type": "stream",
     "text": [
      "SB-KERNEL:REDEFINITION-WITH-DEFUN: redefining COMMON-LISP-USER::PERMUTATIONS in DEFUN\n"
     ]
    }
   ],
   "source": [
    ";; more elegant solution using 'mapcan and (remove :count 1)\n",
    "(defun permutations (bag)\n",
    "  \"Return a list of all the permutations of the input.\"\n",
    "  ;; If the input is nil, there is only one permutation:\n",
    "  ;; nil itself\n",
    "  (if (null bag)\n",
    "      '(())\n",
    "      ;; Otherwise, take an element, e, out of the bag\n",
    "      ;; Generate all permutations of the remaining elements,\n",
    "      ;; And add e to the front of each of these.\n",
    "      ;; Do this for all possible e to generate all permutations,\n",
    "      (mapcan #'(lambda (e)\n",
    "          (mapcar #'(lambda (p) (cons e p))\n",
    "            (permutations\n",
    "              (remove e bag :count 1 :test #'eq))))\n",
    "        bag)))\n",
    "\n",
    "(permutations '(1 2 3 4 5))"
   ]
  },
  {
   "cell_type": "code",
   "execution_count": 114,
   "metadata": {
    "vscode": {
     "languageId": "commonlisp"
    }
   },
   "outputs": [
    {
     "data": {
      "text/plain": [
       "*DESSERT-OPS*"
      ]
     },
     "execution_count": 114,
     "metadata": {},
     "output_type": "execute_result"
    },
    {
     "data": {
      "text/plain": [
       "4"
      ]
     },
     "execution_count": 114,
     "metadata": {},
     "output_type": "execute_result"
    },
    {
     "data": {
      "text/plain": [
       "(:GPS)"
      ]
     },
     "execution_count": 114,
     "metadata": {},
     "output_type": "execute_result"
    },
    {
     "data": {
      "text/plain": [
       "((START) (EXECUTING PURCHASE-ICE-CREAM) (EXECUTING EAT-ICE-CREAM))"
      ]
     },
     "execution_count": 114,
     "metadata": {},
     "output_type": "execute_result"
    },
    {
     "name": "stdout",
     "output_type": "stream",
     "text": [
      "\n",
      "Goal:(DESSERT-EATEN)\n",
      "Consider: (EAT-ICE-CREAM)\n",
      " Goal:(HAVE-ICE-CREAM)\n",
      " Consider: (PURCHASE-ICE-CREAM)\n",
      "  Goal:(HAVE-MONEY)\n",
      " Action: (PURCHASE-ICE-CREAM)\n",
      "Action: (EAT-ICE-CREAM)"
     ]
    }
   ],
   "source": [
    ";; exercise 4.3 \n",
    ";; TODO:\n",
    "(defparameter *dessert-ops*\n",
    "  (list\n",
    "    (op \n",
    "      'purchase-cake\n",
    "      :preconds '(have-money)\n",
    "      :add-list '(have-cake)\n",
    "      :del-list '(have-money)\n",
    "    )\n",
    "    (op \n",
    "      'purchase-ice-cream\n",
    "      :preconds '(have-money)\n",
    "      :add-list '(have-ice-cream)\n",
    "      :del-list '(have-money)\n",
    "    )\n",
    "    (op \n",
    "      'eat-cake\n",
    "      :preconds '(have-cake)\n",
    "      :add-list '(dessert-eatan have-ice-cream)  ;; gift from store\n",
    "      :del-list '(have-cake)\n",
    "    )\n",
    "    (op \n",
    "      'eat-ice-cream\n",
    "      :preconds '(have-ice-cream)\n",
    "      :add-list '(dessert-eaten)\n",
    "      :del-list '(have-ice-cream)\n",
    "    )))\n",
    "\n",
    "(use *dessert-ops*)\n",
    "(debug1 :gps)\n",
    "(gps '(have-money) '(dessert-eaten))"
   ]
  }
 ],
 "metadata": {
  "kernelspec": {
   "display_name": "Common Lisp",
   "language": "common-lisp",
   "name": "common-lisp"
  },
  "language_info": {
   "codemirror_mode": "text/x-common-lisp",
   "file_extension": ".lisp",
   "mimetype": "text/x-common-lisp",
   "name": "common-lisp",
   "pygments_lexer": "common-lisp",
   "version": "2.3.2"
  },
  "orig_nbformat": 4
 },
 "nbformat": 4,
 "nbformat_minor": 2
}
