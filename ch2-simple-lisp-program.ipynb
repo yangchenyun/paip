{
 "cells": [
  {
   "attachments": {},
   "cell_type": "markdown",
   "metadata": {},
   "source": [
    "# Chapter 2\n",
    "\n",
    "Program included: context-free phrase-structure grammar"
   ]
  },
  {
   "cell_type": "code",
   "execution_count": 5,
   "metadata": {
    "vscode": {
     "languageId": "commonlisp"
    }
   },
   "outputs": [
    {
     "data": {
      "text/plain": [
       "MAPPEND"
      ]
     },
     "execution_count": 5,
     "metadata": {},
     "output_type": "execute_result"
    }
   ],
   "source": [
    ";; imported function\n",
    "(defun mappend (fn the-list)\n",
    "    \"Apply fn to the list and append the results\"\n",
    "    (apply #'append (mapcar fn the-list)))"
   ]
  },
  {
   "cell_type": "code",
   "execution_count": 6,
   "metadata": {
    "vscode": {
     "languageId": "commonlisp"
    }
   },
   "outputs": [
    {
     "data": {
      "text/plain": [
       "ONE-OF"
      ]
     },
     "execution_count": 6,
     "metadata": {},
     "output_type": "execute_result"
    },
    {
     "data": {
      "text/plain": [
       "RANDOM-ELT"
      ]
     },
     "execution_count": 6,
     "metadata": {},
     "output_type": "execute_result"
    },
    {
     "name": "stdout",
     "output_type": "stream",
     "text": [
      "SB-INT:SIMPLE-STYLE-WARNING: undefined function: COMMON-LISP-USER::RANDOM-ELT\n"
     ]
    }
   ],
   "source": [
    "(defun one-of (set)\n",
    "    \"Pick one element of set, and make a list of it.\"\n",
    "    (list (random-elt set)))\n",
    "\n",
    "(defun random-elt (choices)\n",
    "    \"Choose an element from a list at random.\"\n",
    "    (elt choices (random (length choices))))"
   ]
  },
  {
   "cell_type": "code",
   "execution_count": 7,
   "metadata": {
    "vscode": {
     "languageId": "commonlisp"
    }
   },
   "outputs": [
    {
     "data": {
      "text/plain": [
       "SENTENCE"
      ]
     },
     "execution_count": 7,
     "metadata": {},
     "output_type": "execute_result"
    },
    {
     "data": {
      "text/plain": [
       "NOUN-PHRASE"
      ]
     },
     "execution_count": 7,
     "metadata": {},
     "output_type": "execute_result"
    },
    {
     "data": {
      "text/plain": [
       "VERB-PHRASE"
      ]
     },
     "execution_count": 7,
     "metadata": {},
     "output_type": "execute_result"
    },
    {
     "data": {
      "text/plain": [
       "ARTICLE"
      ]
     },
     "execution_count": 7,
     "metadata": {},
     "output_type": "execute_result"
    },
    {
     "data": {
      "text/plain": [
       "NOUN"
      ]
     },
     "execution_count": 7,
     "metadata": {},
     "output_type": "execute_result"
    },
    {
     "data": {
      "text/plain": [
       "VERB"
      ]
     },
     "execution_count": 7,
     "metadata": {},
     "output_type": "execute_result"
    },
    {
     "name": "stdout",
     "output_type": "stream",
     "text": [
      "SB-INT:SIMPLE-STYLE-WARNING: undefined function: COMMON-LISP-USER::NOUN-PHRASE\n",
      "SB-INT:SIMPLE-STYLE-WARNING: undefined function: COMMON-LISP-USER::VERB-PHRASE\n",
      "SB-INT:SIMPLE-STYLE-WARNING: undefined function: COMMON-LISP-USER::ARTICLE\n",
      "SB-INT:SIMPLE-STYLE-WARNING: undefined function: COMMON-LISP-USER::NOUN\n",
      "SB-INT:SIMPLE-STYLE-WARNING: undefined function: COMMON-LISP-USER::VERB\n"
     ]
    }
   ],
   "source": [
    "(defun sentence () (append (noun-phrase) (verb-phrase)))\n",
    "(defun noun-phrase () (append (Article) (Noun)))\n",
    "(defun verb-phrase () (append (Verb) (noun-phrase)))\n",
    "(defun Article () (one-of '(the a)))\n",
    "(defun Noun () (one-of '(man ball woman table)))\n",
    "(defun Verb () (one-of '(hit took saw liked)))"
   ]
  },
  {
   "cell_type": "code",
   "execution_count": 8,
   "metadata": {
    "vscode": {
     "languageId": "commonlisp"
    }
   },
   "outputs": [
    {
     "data": {
      "text/plain": [
       "(A BALL SAW A TABLE)"
      ]
     },
     "execution_count": 8,
     "metadata": {},
     "output_type": "execute_result"
    }
   ],
   "source": [
    "(sentence)"
   ]
  },
  {
   "cell_type": "code",
   "execution_count": 9,
   "metadata": {
    "vscode": {
     "languageId": "commonlisp"
    }
   },
   "outputs": [
    {
     "data": {
      "text/plain": [
       "NOUN-PHRASE"
      ]
     },
     "execution_count": 9,
     "metadata": {},
     "output_type": "execute_result"
    },
    {
     "data": {
      "text/plain": [
       "ADJ*"
      ]
     },
     "execution_count": 9,
     "metadata": {},
     "output_type": "execute_result"
    },
    {
     "data": {
      "text/plain": [
       "PP*"
      ]
     },
     "execution_count": 9,
     "metadata": {},
     "output_type": "execute_result"
    },
    {
     "data": {
      "text/plain": [
       "ADJ"
      ]
     },
     "execution_count": 9,
     "metadata": {},
     "output_type": "execute_result"
    },
    {
     "data": {
      "text/plain": [
       "PREP"
      ]
     },
     "execution_count": 9,
     "metadata": {},
     "output_type": "execute_result"
    },
    {
     "name": "stdout",
     "output_type": "stream",
     "text": [
      "SB-INT:SIMPLE-STYLE-WARNING: undefined function: COMMON-LISP-USER::ADJ*\n",
      "SB-INT:SIMPLE-STYLE-WARNING: undefined function: COMMON-LISP-USER::PP*\n",
      "SB-KERNEL:REDEFINITION-WITH-DEFUN: redefining COMMON-LISP-USER::NOUN-PHRASE in DEFUN\n",
      "SB-INT:SIMPLE-STYLE-WARNING: undefined function: COMMON-LISP-USER::ADJ\n",
      "SB-INT:SIMPLE-STYLE-WARNING: undefined function: COMMON-LISP-USER::PREP\n"
     ]
    }
   ],
   "source": [
    ";; expand the rule to include Kleene star\n",
    "(defun noun-phrase () (append (Article) (Adj*) (Noun) (PP*)))\n",
    "(defun Adj* ()\n",
    "    (if (= (random 2) 0)\n",
    "        nil\n",
    "        (append (Adj) (Adj*))))\n",
    "(defun PP* ()\n",
    "    (if (= (random 2) 0)\n",
    "        nil\n",
    "        (append (Prep) (PP*))))\n",
    "(defun Adj () (one-of '(big little blue green red)))\n",
    "(defun Prep () (one-of '(to in by with)))"
   ]
  },
  {
   "cell_type": "code",
   "execution_count": 10,
   "metadata": {
    "vscode": {
     "languageId": "commonlisp"
    }
   },
   "outputs": [
    {
     "data": {
      "text/plain": [
       "(A WOMAN TO TO BY IN WITH SAW THE RED RED LITTLE WOMAN IN WITH)"
      ]
     },
     "execution_count": 10,
     "metadata": {},
     "output_type": "execute_result"
    }
   ],
   "source": [
    "(sentence)"
   ]
  },
  {
   "cell_type": "code",
   "execution_count": 11,
   "metadata": {
    "vscode": {
     "languageId": "commonlisp"
    }
   },
   "outputs": [
    {
     "data": {
      "text/plain": [
       "*SIMPLE-GRAMMAR*"
      ]
     },
     "execution_count": 11,
     "metadata": {},
     "output_type": "execute_result"
    },
    {
     "data": {
      "text/plain": [
       "*GRAMMAR*"
      ]
     },
     "execution_count": 11,
     "metadata": {},
     "output_type": "execute_result"
    }
   ],
   "source": [
    ";;; Not a scalable solution, change to rule-based solution\n",
    "\n",
    "(defparameter *simple-grammar*\n",
    "    '((sentence -> (noun-phrase verb-phrase))\n",
    "      (noun-phrase -> (Article Noun))\n",
    "      (verb-phrase -> (Verb noun-phrase))\n",
    "      (Article -> the a)\n",
    "      (Noun -> man ball woman table)\n",
    "      (Verb -> hit took saw liked))\n",
    "    \"A grammar for a trivial subset of English.\")\n",
    "\n",
    ";; Add a layer of indirection, boundary for what a program could change\n",
    "(defvar *grammar* *simple-grammar*\n",
    "    \"The grammar used by generate. Initially, this is *simple-grammar*, but we can switch to other grammars.\")"
   ]
  },
  {
   "cell_type": "code",
   "execution_count": 12,
   "metadata": {
    "vscode": {
     "languageId": "commonlisp"
    }
   },
   "outputs": [
    {
     "data": {
      "text/plain": [
       "(NOUN -> MAN BALL WOMAN TABLE)"
      ]
     },
     "execution_count": 12,
     "metadata": {},
     "output_type": "execute_result"
    }
   ],
   "source": [
    "(assoc 'noun *grammar*)"
   ]
  },
  {
   "cell_type": "code",
   "execution_count": 13,
   "metadata": {
    "vscode": {
     "languageId": "commonlisp"
    }
   },
   "outputs": [
    {
     "data": {
      "text/plain": [
       "RULE-LHS"
      ]
     },
     "execution_count": 13,
     "metadata": {},
     "output_type": "execute_result"
    },
    {
     "data": {
      "text/plain": [
       "RULE-RHS"
      ]
     },
     "execution_count": 13,
     "metadata": {},
     "output_type": "execute_result"
    },
    {
     "data": {
      "text/plain": [
       "REWRITES"
      ]
     },
     "execution_count": 13,
     "metadata": {},
     "output_type": "execute_result"
    }
   ],
   "source": [
    ";; define procedures to operate on the grammar\n",
    "(defun rule-lhs (rule) (first rule))\n",
    "(defun rule-rhs (rule) (rest (rest rule)))\n",
    "(defun rewrites (category) \n",
    "    \"Return a list of possible rewrites for this category\"\n",
    "    (rule-rhs (assoc category *grammar*)))"
   ]
  },
  {
   "cell_type": "code",
   "execution_count": 14,
   "metadata": {
    "vscode": {
     "languageId": "commonlisp"
    }
   },
   "outputs": [
    {
     "data": {
      "text/plain": [
       "GENERATE"
      ]
     },
     "execution_count": 14,
     "metadata": {},
     "output_type": "execute_result"
    },
    {
     "data": {
      "text/plain": [
       "(THE BIG ADIABATIC GREEN WOMAN ON IT LIKED SHE)"
      ]
     },
     "execution_count": 14,
     "metadata": {},
     "output_type": "execute_result"
    }
   ],
   "source": [
    ";; Exercise 2.1, generate\n",
    "(defun generate (phrase)\n",
    "    (let ((choices (rewrites phrase)))\n",
    "        (cond ((listp phrase) (mappend #'generate phrase))\n",
    "            (choices (generate (random-elt choices)))\n",
    "            (t (list phrase)))))\n",
    "\n",
    "(generate 'sentence)"
   ]
  },
  {
   "cell_type": "code",
   "execution_count": 15,
   "metadata": {
    "vscode": {
     "languageId": "commonlisp"
    }
   },
   "outputs": [
    {
     "data": {
      "text/plain": [
       "GENERATE2"
      ]
     },
     "execution_count": 15,
     "metadata": {},
     "output_type": "execute_result"
    },
    {
     "data": {
      "text/plain": [
       "(THE MAN TOOK NAME BY NAME WITH SHE)"
      ]
     },
     "execution_count": 15,
     "metadata": {},
     "output_type": "execute_result"
    }
   ],
   "source": [
    ";; Exercise 2.2, generate differentiates terminal and non-terminal symbols\n",
    "(defun generate2 (phrase)\n",
    "    (if (listp phrase) \n",
    "        (mappend #'generate2 phrase)\n",
    "        (if (null (rewrites phrase))\n",
    "                    (list phrase)\n",
    "                    (generate2 (random-elt (rewrites phrase))))))\n",
    "\n",
    "(generate2 'sentence)"
   ]
  },
  {
   "cell_type": "code",
   "execution_count": 16,
   "metadata": {
    "vscode": {
     "languageId": "commonlisp"
    }
   },
   "outputs": [
    {
     "data": {
      "text/plain": [
       "*BIGGER-GRAMMAR*"
      ]
     },
     "execution_count": 16,
     "metadata": {},
     "output_type": "execute_result"
    },
    {
     "data": {
      "text/plain": [
       "((SENTENCE -> (NOUN-PHRASE VERB-PHRASE))\n",
       " (NOUN-PHRASE -> (ARTICLE ADJ* NOUN PP*) (NAME) (PRONOUN))\n",
       " (VERB-PHRASE -> (VERB NOUN-PHRASE PP*)) (ADJ* -> NIL (ADJ ADJ*))\n",
       " (PP* -> NIL (PP PP*)) (PP -> (PREP NOUN-PHRASE)) (PREP -> TO IN BY WITH ON)\n",
       " (ADJ -> BIG LITTLE BLUE GREEN ADIABATIC) (ARTICLE -> THE A)\n",
       " (NOUN -> MAN BALL WOMAN TABLE) (VERB -> HIT TOOK SAW LIKED)\n",
       " (PRONOUN -> HE SHE IT THESE THOSE THAT))"
      ]
     },
     "execution_count": 16,
     "metadata": {},
     "output_type": "execute_result"
    }
   ],
   "source": [
    ";; Data-driven advantage 1: the program could be easily extended to more complext grammar\n",
    "(defparameter *bigger-grammar*\n",
    "    '((sentence -> (noun-phrase verb-phrase))\n",
    "      (noun-phrase -> (Article Adj* Noun PP*) (Name) (Pronoun))\n",
    "      (verb-phrase -> (Verb noun-phrase PP*))\n",
    "      (Adj* -> () (Adj Adj*))\n",
    "      (PP* -> () (PP PP*))\n",
    "      (PP -> (Prep noun-phrase))\n",
    "      (Prep -> to in by with on)\n",
    "      (Adj -> big little blue green adiabatic)\n",
    "      (Article -> the a)\n",
    "      (Noun -> man ball woman table)\n",
    "      (Verb -> hit took saw liked)\n",
    "      (pronoun -> he she it these those that))\n",
    "    \"A more complext grammar.\")\n",
    "\n",
    ";; Demostration the value of indirection layer\n",
    "(setf *grammar* *bigger-grammar*)"
   ]
  },
  {
   "cell_type": "code",
   "execution_count": 50,
   "metadata": {
    "vscode": {
     "languageId": "commonlisp"
    }
   },
   "outputs": [
    {
     "data": {
      "text/plain": [
       "GENERATE-TREE"
      ]
     },
     "execution_count": 50,
     "metadata": {},
     "output_type": "execute_result"
    },
    {
     "data": {
      "text/plain": [
       "(SENTENCE (NOUN-PHRASE (ARTICLE THE) (NOUN BALL))\n",
       "          (VERB-PHRASE (VERB TOOK) (NOUN-PHRASE (ARTICLE A) (NOUN BALL))))"
      ]
     },
     "execution_count": 50,
     "metadata": {},
     "output_type": "execute_result"
    },
    {
     "name": "stdout",
     "output_type": "stream",
     "text": [
      "SB-KERNEL:REDEFINITION-WITH-DEFUN: redefining COMMON-LISP-USER::GENERATE-TREE in DEFUN\n"
     ]
    }
   ],
   "source": [
    ";; Data-driven advantage 2: write another program working on same data is trivil\n",
    "(defun generate-tree (phrase)\n",
    "    \"Generate a random sentence or phrase, with a complete parse tree.\"\n",
    "    (if (listp phrase) \n",
    "        (mapcar #'generate-tree phrase)\n",
    "        (if (null (rewrites phrase))\n",
    "                    (list phrase)\n",
    "                    (cons phrase (generate-tree (random-elt (rewrites phrase)))))))\n",
    "\n",
    "(generate-tree 'sentence)"
   ]
  },
  {
   "cell_type": "code",
   "execution_count": 62,
   "metadata": {
    "vscode": {
     "languageId": "commonlisp"
    }
   },
   "outputs": [
    {
     "data": {
      "text/plain": [
       "GENERATE-ALL"
      ]
     },
     "execution_count": 62,
     "metadata": {},
     "output_type": "execute_result"
    },
    {
     "data": {
      "text/plain": [
       "COMBINE-ALL"
      ]
     },
     "execution_count": 62,
     "metadata": {},
     "output_type": "execute_result"
    },
    {
     "data": {
      "text/plain": [
       "((SENTENCE -> (NOUN-PHRASE VERB-PHRASE)) (NOUN-PHRASE -> (ARTICLE NOUN))\n",
       " (VERB-PHRASE -> (VERB NOUN-PHRASE)) (ARTICLE -> THE A)\n",
       " (NOUN -> MAN BALL WOMAN TABLE) (VERB -> HIT TOOK SAW LIKED))"
      ]
     },
     "execution_count": 62,
     "metadata": {},
     "output_type": "execute_result"
    },
    {
     "data": {
      "text/plain": [
       "256"
      ]
     },
     "execution_count": 62,
     "metadata": {},
     "output_type": "execute_result"
    },
    {
     "name": "stdout",
     "output_type": "stream",
     "text": [
      "SB-KERNEL:REDEFINITION-WITH-DEFUN: redefining COMMON-LISP-USER::GENERATE-ALL in DEFUN\n",
      "SB-KERNEL:REDEFINITION-WITH-DEFUN: redefining COMMON-LISP-USER::COMBINE-ALL in DEFUN\n"
     ]
    }
   ],
   "source": [
    "(defun generate-all (phrase)\n",
    "    \"Return a list of list with all the possible phrases.\"\n",
    "    (cond ((null phrase) '(nil))\n",
    "          ((listp phrase) \n",
    "            (combine-all (generate-all (first phrase)) (generate-all (rest phrase))))\n",
    "          ((rewrites phrase)\n",
    "            (mappend #'generate-all (rewrites phrase)))\n",
    "          (t (list (list phrase)))))\n",
    "\n",
    "(defun combine-all (xlist ylist)\n",
    "    (mappend #'(lambda (y) \n",
    "                (mapcar #'(lambda (x) (append x y)) xlist)) ylist))\n",
    "\n",
    "(setf *grammar* *simple-grammar*)\n",
    "(length (generate-all 'sentence))"
   ]
  },
  {
   "cell_type": "code",
   "execution_count": 77,
   "metadata": {
    "vscode": {
     "languageId": "commonlisp"
    }
   },
   "outputs": [
    {
     "data": {
      "text/plain": [
       "CROSS-PRODUCT"
      ]
     },
     "execution_count": 77,
     "metadata": {},
     "output_type": "execute_result"
    },
    {
     "data": {
      "text/plain": [
       "COMBINE-ALL"
      ]
     },
     "execution_count": 77,
     "metadata": {},
     "output_type": "execute_result"
    },
    {
     "data": {
      "text/plain": [
       "((1 A) (2 A) (3 A) (1 B) (2 B) (3 B) (1 C) (2 C) (3 C))"
      ]
     },
     "execution_count": 77,
     "metadata": {},
     "output_type": "execute_result"
    },
    {
     "data": {
      "text/plain": [
       "((1 A) (2 A) (3 A) (1 B) (2 B) (3 B) (1 C) (2 C) (3 C))"
      ]
     },
     "execution_count": 77,
     "metadata": {},
     "output_type": "execute_result"
    },
    {
     "name": "stdout",
     "output_type": "stream",
     "text": [
      "SB-KERNEL:REDEFINITION-WITH-DEFUN: redefining COMMON-LISP-USER::CROSS-PRODUCT in DEFUN\n",
      "SB-KERNEL:REDEFINITION-WITH-DEFUN: redefining COMMON-LISP-USER::COMBINE-ALL in DEFUN\n"
     ]
    }
   ],
   "source": [
    ";; Exercise 2.4\n",
    "(defun cross-product (fn xlist ylist)\n",
    "    (mappend #'(lambda (y) (mapcar #'(lambda (x) (funcall fn x y)) xlist)) ylist))\n",
    "\n",
    "(defun combine-all (xlist ylist)\n",
    "  \"Return a list of lists formed by appending a y to an x\"\n",
    "  (cross-product #'append xlist ylist))\n",
    "\n",
    "(cross-product #'append '((1) (2) (3)) '((a) (b) (c)))\n",
    "(combine-all '((1) (2) (3)) '((a) (b) (c)))"
   ]
  }
 ],
 "metadata": {
  "kernelspec": {
   "display_name": "Common Lisp",
   "language": "common-lisp",
   "name": "common-lisp"
  },
  "language_info": {
   "codemirror_mode": "text/x-common-lisp",
   "file_extension": ".lisp",
   "mimetype": "text/x-common-lisp",
   "name": "common-lisp",
   "pygments_lexer": "common-lisp",
   "version": "2.3.2"
  },
  "orig_nbformat": 4
 },
 "nbformat": 4,
 "nbformat_minor": 2
}
